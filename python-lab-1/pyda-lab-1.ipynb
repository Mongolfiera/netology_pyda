{
 "cells": [
  {
   "cell_type": "markdown",
   "metadata": {},
   "source": [
    "# Лабораторная работа по курсу «Python для анализа данных»"
   ]
  },
  {
   "cell_type": "markdown",
   "metadata": {},
   "source": [
    "**Задача 1**\n",
    "\n",
    "\n",
    "Дана строка\n",
    "string_01 = “Mama, just killed a man, put a gun against his head,\n",
    "pulled my trigger, now he's dead. Mama, life had just begun, but\n",
    "now I've gone and thrown it all away. Mama, ooh (any way the wind\n",
    "blows), didn't mean to make you cry. If I'm not back again this\n",
    "time tomorrow carry on, carry on as if nothing really matters.”\n",
    "1. Посчитайте, сколько в строке символов (исключая пробелы).\n",
    "2. Посчитайте, сколько в строке слов.\n",
    "3. Напишите функцию, которая будет принимать в качестве аргумента букву и\n",
    "выводить все слова из строки, заканчивающиеся на эту букву (например, “s”).\n",
    "4. Не обязательно: Напишите функцию, которая будет принимать в качестве\n",
    "аргумента букву и выводить все слова из строки, начинающиеся на эту букву\n",
    "(например, “m”)."
   ]
  },
  {
   "cell_type": "code",
   "execution_count": 1,
   "metadata": {},
   "outputs": [],
   "source": [
    "string_01 = \"Mama, just killed a man, put a gun against his head, pulled my trigger, now he's dead. Mama, life had just begun, but now I've gone and thrown it all away. Mama, ooh (any way the wind blows), didn't mean to make you cry. If I'm not back again this time tomorrow carry on, carry on as if nothing really matters.\""
   ]
  },
  {
   "cell_type": "code",
   "execution_count": 2,
   "metadata": {},
   "outputs": [
    {
     "name": "stdout",
     "output_type": "stream",
     "text": [
      "250\n"
     ]
    }
   ],
   "source": [
    "import re\n",
    "\n",
    "# 1. Посчитайте, сколько в строке символов (исключая пробелы).\n",
    "\n",
    "print(len(re.sub(r'\\s', '', string_01, flags=re.IGNORECASE)))"
   ]
  },
  {
   "cell_type": "code",
   "execution_count": 3,
   "metadata": {},
   "outputs": [
    {
     "name": "stdout",
     "output_type": "stream",
     "text": [
      "61\n"
     ]
    }
   ],
   "source": [
    "# 2. Посчитайте, сколько в строке слов.\n",
    "\n",
    "print(len(string_01.split(' ')))"
   ]
  },
  {
   "cell_type": "code",
   "execution_count": 4,
   "metadata": {},
   "outputs": [
    {
     "name": "stdout",
     "output_type": "stream",
     "text": [
      "['his', 's', 'blows', 'this', 'as', 'matters']\n",
      "['his', 's', 'blows', 'this', 'as', 'matters']\n"
     ]
    }
   ],
   "source": [
    "# 3. Напишите функцию, которая будет принимать в качестве аргумента букву \n",
    "#    и выводить все слова из строки, заканчивающиеся на эту букву (например, “s”).\n",
    "\n",
    "def get_ending_with(char, string):\n",
    "    string_list = re.split('\\W+', string.lower())\n",
    "    \n",
    "    return[word for word in string_list if word.endswith(char.lower())]\n",
    "\n",
    "\n",
    "print(get_ending_with('s', string_01))\n",
    "print(get_ending_with('S', string_01))"
   ]
  },
  {
   "cell_type": "code",
   "execution_count": 5,
   "metadata": {},
   "outputs": [
    {
     "name": "stdout",
     "output_type": "stream",
     "text": [
      "['mama', 'man', 'my', 'mama', 'mama', 'mean', 'make', 'm', 'matters']\n",
      "['mama', 'man', 'my', 'mama', 'mama', 'mean', 'make', 'm', 'matters']\n"
     ]
    }
   ],
   "source": [
    "# 4. Напишите функцию, которая будет принимать в качестве аргумента букву \n",
    "#    и выводить все слова из строки, начинающиеся на эту букву (например, “m”).\n",
    "\n",
    "def get_starting_with(char, string):\n",
    "    string_list = re.split('\\W+', string.lower())\n",
    "    \n",
    "    return[word for word in string_list if word.startswith(char.lower())]\n",
    "\n",
    "\n",
    "print(get_starting_with('m', string_01))\n",
    "print(get_starting_with('M', string_01))"
   ]
  },
  {
   "cell_type": "markdown",
   "metadata": {},
   "source": [
    "**Задача 2**\n",
    "\n",
    "\n",
    "Напишите код, который будет генерировать случайную последовательность из 6\n",
    "цифр, одна из которых должна быть 3. Позиция цифры 3 должна\n",
    "определяться случайным образом. Результат должен быть строкой. Например:\n",
    "\"456309\" или \"330127\""
   ]
  },
  {
   "cell_type": "code",
   "execution_count": 6,
   "metadata": {},
   "outputs": [],
   "source": [
    "import random\n",
    "\n",
    "def generate_seq(s_len):\n",
    "    seq = [str(random.randint(0, 9)) for i in range(s_len)]\n",
    "    if '3' not in seq:\n",
    "        three_pos = random.randint(0, s_len - 1)\n",
    "        seq[three_pos] = '3'\n",
    "    return ''.join(seq)"
   ]
  },
  {
   "cell_type": "code",
   "execution_count": 7,
   "metadata": {},
   "outputs": [
    {
     "name": "stdout",
     "output_type": "stream",
     "text": [
      "070613\n",
      "311563\n",
      "121130\n"
     ]
    }
   ],
   "source": [
    "print(generate_seq(6))\n",
    "print(generate_seq(6))\n",
    "print(generate_seq(6))"
   ]
  },
  {
   "cell_type": "markdown",
   "metadata": {},
   "source": [
    "**Задача 3**\n",
    "\n",
    "\n",
    "Дан список\n",
    "list_01 = \\[1, 1, 2, 3, 5, 8, 13, 21, 34, 55, 89, 144, 233, 377, 610\\]\n",
    "\n",
    "Напишите алгоритм, который выводит сумму элементов списка, которые больше\n",
    "10, но меньше 100."
   ]
  },
  {
   "cell_type": "code",
   "execution_count": 8,
   "metadata": {},
   "outputs": [],
   "source": [
    "list_01 = [1, 1, 2, 3, 5, 8, 13, 21, 34, 55, 89, 144, 233, 377, 610]"
   ]
  },
  {
   "cell_type": "code",
   "execution_count": 9,
   "metadata": {},
   "outputs": [
    {
     "name": "stdout",
     "output_type": "stream",
     "text": [
      "212\n"
     ]
    }
   ],
   "source": [
    "print(sum([el for el in list_01 if el > 10 and el < 100]))"
   ]
  },
  {
   "cell_type": "markdown",
   "metadata": {},
   "source": [
    "**Задача 4**\n",
    "\n",
    "\n",
    "Данные студентов представлены в виде списка списков:\n",
    "\n",
    "students = \\[\n",
    "[\"0001\", \"Антонов\", \"Антон\", \"Игоревич\", \"20.08.2009\", \"БСТ161\"],\n",
    "[\"1102\", \"Богов\", \"Артем\", \"Игоревич\", \"25.01.2010\", \"БСТ162\"],\n",
    "[\"0333\", \"Глаголева\", \"Анастасия\", \"Николаевна\", \"11.07.2009\", \"БСТ163\"],\n",
    "[\"4004\", \"Степанова\", \"Наталья\", \"Александровна\", \"13.02.2008\", \"БСТ161\"],\n",
    "[\"0045\", \"Боков\", \"Игорь\", \"Харитонович\", \"02.06.2009\", \"БСТ161\"],\n",
    "[\"0096\", \"Васильков\", \"Валентин\", \"Сергеевич\", \"20.03.2009\", \"БСТ164\"],\n",
    "[\"0607\", \"Сиропова\", \"Виолетта\", \"Эдуардовна\", \"28.05.2010\", \"БСТ162\"],\n",
    "[\"0309\", \"Шафутинский\", \"Михаил\", \"Михайлович\", \"03.09.2007\", \"БСТ163\"]\n",
    "\\]\n",
    "\n",
    "1. Преобразуйте данные таким образом, чтобы они были представлены в виде\n",
    "словаря, в котором ключами являются номера студентов, а значениями —\n",
    "список из других данных о студентах.\n",
    "2. Напишите функцию, которая принимает в качестве аргумента номер студента и\n",
    "новый номер группы и позволяет изменить номер группы этого студента на\n",
    "новый.\n",
    "3. Напишите функцию, которая принимает номер группы и выводит список\n",
    "(фамилии, имена, отчества) всех студентов этой группы."
   ]
  },
  {
   "cell_type": "code",
   "execution_count": 10,
   "metadata": {},
   "outputs": [],
   "source": [
    "students = [\n",
    "    [\"0001\", \"Антонов\", \"Антон\", \"Игоревич\", \"20.08.2009\", \"БСТ161\"],\n",
    "    [\"1102\", \"Богов\", \"Артем\", \"Игоревич\", \"25.01.2010\", \"БСТ162\"],\n",
    "    [\"0333\", \"Глаголева\", \"Анастасия\", \"Николаевна\", \"11.07.2009\", \"БСТ163\"],\n",
    "    [\"4004\", \"Степанова\", \"Наталья\", \"Александровна\", \"13.02.2008\", \"БСТ161\"],\n",
    "    [\"0045\", \"Боков\", \"Игорь\", \"Харитонович\", \"02.06.2009\", \"БСТ161\"],\n",
    "    [\"0096\", \"Васильков\", \"Валентин\", \"Сергеевич\", \"20.03.2009\", \"БСТ164\"],\n",
    "    [\"0607\", \"Сиропова\", \"Виолетта\", \"Эдуардовна\", \"28.05.2010\", \"БСТ162\"],\n",
    "    [\"0309\", \"Шафутинский\", \"Михаил\", \"Михайлович\", \"03.09.2007\", \"БСТ163\"]\n",
    "    ]"
   ]
  },
  {
   "cell_type": "code",
   "execution_count": 11,
   "metadata": {},
   "outputs": [
    {
     "name": "stdout",
     "output_type": "stream",
     "text": [
      "{'0001': ['Антонов', 'Антон', 'Игоревич', '20.08.2009', 'БСТ161'], '1102': ['Богов', 'Артем', 'Игоревич', '25.01.2010', 'БСТ162'], '0333': ['Глаголева', 'Анастасия', 'Николаевна', '11.07.2009', 'БСТ163'], '4004': ['Степанова', 'Наталья', 'Александровна', '13.02.2008', 'БСТ161'], '0045': ['Боков', 'Игорь', 'Харитонович', '02.06.2009', 'БСТ161'], '0096': ['Васильков', 'Валентин', 'Сергеевич', '20.03.2009', 'БСТ164'], '0607': ['Сиропова', 'Виолетта', 'Эдуардовна', '28.05.2010', 'БСТ162'], '0309': ['Шафутинский', 'Михаил', 'Михайлович', '03.09.2007', 'БСТ163']}\n"
     ]
    }
   ],
   "source": [
    "# 1. Преобразуйте данные таким образом, чтобы они были представлены в виде словаря, \n",
    "#    в котором ключами являются номера студентов, а значениями — список из других данных о студентах.\n",
    "\n",
    "students_dict = {student[0]: student[1: ] for student in students}\n",
    "\n",
    "print(students_dict)"
   ]
  },
  {
   "cell_type": "code",
   "execution_count": 12,
   "metadata": {},
   "outputs": [
    {
     "name": "stdout",
     "output_type": "stream",
     "text": [
      "0001 ['Антонов', 'Антон', 'Игоревич', '20.08.2009', 'БСТ161']\n",
      "1102 ['Богов', 'Артем', 'Игоревич', '25.01.2010', 'БСТ162']\n",
      "0333 ['Глаголева', 'Анастасия', 'Николаевна', '11.07.2009', 'NEW GROUP']\n",
      "4004 ['Степанова', 'Наталья', 'Александровна', '13.02.2008', 'БСТ161']\n",
      "0045 ['Боков', 'Игорь', 'Харитонович', '02.06.2009', 'БСТ161']\n",
      "0096 ['Васильков', 'Валентин', 'Сергеевич', '20.03.2009', 'БСТ164']\n",
      "0607 ['Сиропова', 'Виолетта', 'Эдуардовна', '28.05.2010', 'БСТ162']\n",
      "0309 ['Шафутинский', 'Михаил', 'Михайлович', '03.09.2007', 'БСТ163']\n"
     ]
    },
    {
     "data": {
      "text/plain": [
       "[None, None, None, None, None, None, None, None]"
      ]
     },
     "execution_count": 12,
     "metadata": {},
     "output_type": "execute_result"
    }
   ],
   "source": [
    "# 2. Напишите функцию, которая принимает в качестве аргумента номер студента и новый номер группы \n",
    "#    и позволяет изменить номер группы этого студента на новый.\n",
    "\n",
    "def change_group(student_id, new_group):\n",
    "    students_dict[student_id][4] = new_group\n",
    "    \n",
    "change_group(\"0333\", 'NEW GROUP')\n",
    "\n",
    "[print(k,v) for k,v in students_dict.items()]"
   ]
  },
  {
   "cell_type": "code",
   "execution_count": 13,
   "metadata": {},
   "outputs": [
    {
     "name": "stdout",
     "output_type": "stream",
     "text": [
      "['Шафутинский Михаил Михайлович']\n",
      "['Антонов Антон Игоревич', 'Степанова Наталья Александровна', 'Боков Игорь Харитонович']\n"
     ]
    }
   ],
   "source": [
    "# 3. Напишите функцию, которая принимает номер группы и выводит список (фамилии, имена, отчества) всех студентов этой группы.\n",
    "\n",
    "def get_group_students(group):\n",
    "    return [' '.join(student[ : 3]) for student in students_dict.values() if student[4] == group]\n",
    "\n",
    "print(get_group_students(\"БСТ163\"))\n",
    "print(get_group_students(\"БСТ161\"))"
   ]
  },
  {
   "cell_type": "markdown",
   "metadata": {},
   "source": [
    "**Задача 5**\n",
    "\n",
    "\n",
    "Дана матрица:\n",
    "matrix = [\n",
    "[0, 1, 2, 4, 8],\n",
    "\n",
    "[6, 2, 2, 1, 9],\n",
    "\n",
    "[3, 3, 3, 3, 3],\n",
    "\n",
    "[4, 6, 7, 1, 2],\n",
    "\n",
    "[5, 7, 3, 4, 0]\n",
    "]\n",
    "1. Выведите результат сложения всех элементов матрицы.\n",
    "2. Напишите алгоритм вычисления максимума из сумм элементов каждого\n",
    "столбца."
   ]
  },
  {
   "cell_type": "code",
   "execution_count": 14,
   "metadata": {},
   "outputs": [],
   "source": [
    "matrix = [ \n",
    "    [0, 1, 2, 4, 8],\n",
    "    [6, 2, 2, 1, 9],\n",
    "    [3, 3, 3, 3, 3],\n",
    "    [4, 6, 7, 1, 2],\n",
    "    [5, 7, 3, 4, 0]\n",
    "    ]"
   ]
  },
  {
   "cell_type": "code",
   "execution_count": 15,
   "metadata": {},
   "outputs": [
    {
     "name": "stdout",
     "output_type": "stream",
     "text": [
      "89\n"
     ]
    }
   ],
   "source": [
    "# 1. Выведите результат сложения всех элементов матрицы.\n",
    "\n",
    "print(sum([el for line in matrix for el in line]))"
   ]
  },
  {
   "cell_type": "code",
   "execution_count": 16,
   "metadata": {},
   "outputs": [
    {
     "name": "stdout",
     "output_type": "stream",
     "text": [
      "22\n"
     ]
    }
   ],
   "source": [
    "# 2. Напишите алгоритм вычисления максимума из сумм элементов каждого столбца.\n",
    "m = len(matrix)\n",
    "n = len(matrix[1]) # предполагается что все строки матрицы одного размера\n",
    "\n",
    "clmns = [sum(column) for column in zip(*matrix)]\n",
    "\n",
    "print(max([sum(col) for col in zip(*matrix)]))"
   ]
  },
  {
   "cell_type": "code",
   "execution_count": null,
   "metadata": {},
   "outputs": [],
   "source": []
  }
 ],
 "metadata": {
  "kernelspec": {
   "display_name": "Python 3",
   "language": "python",
   "name": "python3"
  },
  "language_info": {
   "codemirror_mode": {
    "name": "ipython",
    "version": 3
   },
   "file_extension": ".py",
   "mimetype": "text/x-python",
   "name": "python",
   "nbconvert_exporter": "python",
   "pygments_lexer": "ipython3",
   "version": "3.7.4"
  }
 },
 "nbformat": 4,
 "nbformat_minor": 2
}
