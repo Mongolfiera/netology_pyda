{
 "cells": [
  {
   "cell_type": "markdown",
   "metadata": {},
   "source": [
    "# Домашнее задание к лекции \"Регулярные выражения\"\n",
    "Для зачета необходимо выполнить 4 задания.  \n",
    "Для зачета с отличием – все."
   ]
  },
  {
   "cell_type": "markdown",
   "metadata": {},
   "source": [
    "## Задание 1"
   ]
  },
  {
   "cell_type": "markdown",
   "metadata": {},
   "source": [
    "Напишите функцию, которая принимает на вход строку и проверяет является ли она валидным транспортным номером. Если да, то функция должна возвращать отдельно номер и регион."
   ]
  },
  {
   "cell_type": "code",
   "execution_count": 2,
   "metadata": {},
   "outputs": [],
   "source": [
    "import re"
   ]
  },
  {
   "cell_type": "code",
   "execution_count": 3,
   "metadata": {},
   "outputs": [
    {
     "name": "stdout",
     "output_type": "stream",
     "text": [
      "Введите номер транспортного средства: р987   ав 177\n",
      "Номер транспортного средства: р987ав, регион регистрации ТС: 177\n"
     ]
    }
   ],
   "source": [
    "'''\n",
    "Проверяет современные федеральные номера формата\n",
    "L NNN LL (R)RR (RUS)\n",
    "L - из 12 букв кириллицы, выглядящих как латиница\n",
    "NNN - не может быть 000\n",
    "(R) - или 1 или 7\n",
    "RR - не может быть 00\n",
    "'''\n",
    "\n",
    "lic_plate_pattern = '([АВЕКМНОРСТУХавекмнорстух]\\d{2}([1-9]|(?<!0{2})0)[АВЕКМНОРСТУХавекмнорстух]{2})([1,7]?\\d([1-9]|(?<!0)0))(RUS|rus)?'\n",
    "\n",
    "def check_lic_plate(pattern):\n",
    "    '''\n",
    "    Проверяет современные федеральные номера формата: \n",
    "    L NNN LL (R)RR (RUS)\n",
    "    '''    \n",
    "    lic_plate_number = re.sub(r'[\\s_-]*','',input(\"Введите номер транспортного средства: \"))\n",
    "    match = re.match(pattern, lic_plate_number)\n",
    "    if match:\n",
    "        number = match[1]\n",
    "        region = match[3]\n",
    "        return f'Номер транспортного средства: {number}, регион регистрации ТС: {region}' \n",
    "    return f\"Введен некорректный номер {lic_plate_number}.\"\n",
    "\n",
    "\n",
    "print(check_lic_plate(lic_plate_pattern))"
   ]
  },
  {
   "cell_type": "markdown",
   "metadata": {},
   "source": [
    "## Задание 2"
   ]
  },
  {
   "cell_type": "markdown",
   "metadata": {},
   "source": [
    "Напишите функцию, которая проверяет e-mail адрес на валидность по стандарту RFC822: http://www.w3.org/Protocols/rfc822/. Для этого постарайтесь написать (в крайнем случае найти) самый полный шаблон для проверки e-mail адресов через регулярное выражение. Разберитесь и напишите примеры, какие ваш шаблон может не охватить."
   ]
  },
  {
   "cell_type": "code",
   "execution_count": 6,
   "metadata": {},
   "outputs": [],
   "source": [
    "pattern = \"^(?=[a-z0-9@.!#$%&\\'*+=?^_‘{|}~-]{6,255}$)(?=[a-z0-9][a-z0-9.!#$%&\\'*+=?^_‘{|}~-]{0,63}@)[a-z0-9!#$%&\\'*+=?^_‘{|}~-]+(?:\\.[a-z0-9!#$%&\\'*+=?^_‘{|}~-]+)*@(?:(?=[a-z0-9-]{1,63}\\.)[a-z0-9](?:[a-z0-9-]*[a-z0-9])?\\.)+(?=[a-z0-9-]{1,63})[a-z0-9](?:[a-z0-9-]*[a-z0-9])?$\"\n",
    "\n",
    "emails = ['n.john.s~m!i#t$h@gmail.com', '87victory@hotmail.com', '87vic..tory@hot-mail.com', '87v.i.c.tory@hoTMail.com', 'elenadruganova@yahoo.com.au', '!#mary-=@msca.net']"
   ]
  },
  {
   "cell_type": "markdown",
   "metadata": {},
   "source": [
    "All email addresses are in 7-bit US ASCII\n",
    " + Email addresses consist of a local part, the “@” symbol, and the domain\n",
    "\n",
    " - The local part can be unquoted, quoted in its entirety, or quoted on a per-label basis.\n",
    " + Unquoted local parts can consist of TEXT, optionally separated by periods. No periods can start or end the local part. Two periods together is invalid.\n",
    " + TEXT can contain alphabetic, numeric, and these symbols: !#$%’*+-/=?^_`{|}~ \n",
    " - The quoted local part starts with a quotation mark, ends with a quotation mark.\n",
    " - The contents of a quoted local part can not contain characters 9 (TAB), 10 (LF), 13 (CR), 32 (space), 34 (“), 91-94 ([, \\, ], ^).\n",
    " - If the quoted local part has a backslash, the following character is escaped and must not be 10 (LF), 13 (CR). This supersedes the previous rule, allowing spaces and quotation marks in the email address as long as they are escaped.\n",
    " - If an email is using the obsolete quoting on a per-label basis, then the email address consists of unquoted or quoted chunks separated by periods.\n",
    "\n",
    " - The domain can be bracketed or plain.\n",
    " + A plain domain consists of labels separated with periods. No period can start or end a domain name. No two periods in succession can be in a domain name.\n",
    " + The maximum length of a label is 63 characters.\n",
    " - A label may contain hyphens, but no two hyphens in a row. A label must not start nor end with a hyphen.\n",
    " - Bracketed domains must start with [, end with ], and must not contain characters 9 (TAB), 10 (LF), 13 (CR), 32 (space), 91-94 ([, \\, ], ^).\n",
    " - The contents of a bracketed domain can have a \\ precede a character to escape it, and the following character must not be 10 (LF) or 13 (CR). This allows spaces in the domain as long as they are escaped.\n",
    "\n",
    " + The maximum length of the local part is 64 characters.\n",
    "Domains must resolve with either an A or MX record.\n",
    " - The maximum length of a domain must be 255 characters when being transmitted over the wire (for DNS lookups), thus the maximum length of the domain (the normal domain or the contents of the bracketed domain) is 253 characters.\n",
    " + Any domain label can be at most 63 characters long.\n",
    " + The maximum length of a “useful” email address is 255 characters.\n",
    " - The maximum allowable length of an email address is 320 characters.\n",
    " + The top level domain must be all alphabetic."
   ]
  },
  {
   "cell_type": "code",
   "execution_count": 7,
   "metadata": {},
   "outputs": [
    {
     "name": "stdout",
     "output_type": "stream",
     "text": [
      "n.john.s~m!i#t$h@gmail.com\n",
      "87victory@hotmail.com\n",
      "87vic..tory@hot-mail.com is incorrect. Please enter a correct one.\n",
      "87v.i.c.tory@hoTMail.com\n",
      "elenadruganova@yahoo.com.au\n",
      "!#mary-=@msca.net is incorrect. Please enter a correct one.\n"
     ]
    }
   ],
   "source": [
    "def check_email(pattern, email):\n",
    "    check = re.match(pattern, email, flags=re.IGNORECASE)\n",
    "    if check:\n",
    "        return email\n",
    "    return f'{email} is incorrect. Please enter a correct one.'\n",
    "\n",
    "for email in emails:\n",
    "    print(check_email(pattern,email))"
   ]
  },
  {
   "cell_type": "markdown",
   "metadata": {},
   "source": [
    "## Задание 3\n",
    "Напишите функцию, которая будет удалять все последовательные повторы слов из заданной строки."
   ]
  },
  {
   "cell_type": "code",
   "execution_count": 8,
   "metadata": {},
   "outputs": [],
   "source": [
    "def delete_duplicates(text):\n",
    "    return re.sub(r'\\b([\\w]+)(\\s+\\1)+\\b', r'\\1', text, flags=re.IGNORECASE)"
   ]
  },
  {
   "cell_type": "code",
   "execution_count": 9,
   "metadata": {},
   "outputs": [],
   "source": [
    "text = 'Считается, что зима носит исключительно белые белые одеяния. Дома дома надели надели надели белые белые снежные снежные шапки шапки. Деревья укрылись от мороза под белоснежным пледом пледом. Дороги замело, закутало белым белым покрывалом. Всё белым белым-бело вокруг.\\nНо но если приглядеться прглядеться, то то снег снег снег снег не всегда белого цвета цвета. Под под лучами солнца сугробы переливаются всеми оттенками розового и желтого. На обочине дороги дороги, там, где сквозь снег снег проглядывает земля, снег снег снег становится бурым и даже коричневым.'"
   ]
  },
  {
   "cell_type": "code",
   "execution_count": 10,
   "metadata": {},
   "outputs": [
    {
     "name": "stdout",
     "output_type": "stream",
     "text": [
      "Считается, что зима носит исключительно белые белые одеяния. Дома дома надели надели надели белые белые снежные снежные шапки шапки. Деревья укрылись от мороза под белоснежным пледом пледом. Дороги замело, закутало белым белым покрывалом. Всё белым белым-бело вокруг.\n",
      "Но но если приглядеться прглядеться, то то снег снег снег снег не всегда белого цвета цвета. Под под лучами солнца сугробы переливаются всеми оттенками розового и желтого. На обочине дороги дороги, там, где сквозь снег снег проглядывает земля, снег снег снег становится бурым и даже коричневым. \n",
      "\n",
      "\n",
      "Считается, что зима носит исключительно белые одеяния. Дома надели белые снежные шапки. Деревья укрылись от мороза под белоснежным пледом. Дороги замело, закутало белым покрывалом. Всё белым-бело вокруг.\n",
      "Но если приглядеться прглядеться, то снег не всегда белого цвета. Под лучами солнца сугробы переливаются всеми оттенками розового и желтого. На обочине дороги, там, где сквозь снег проглядывает земля, снег становится бурым и даже коричневым.\n"
     ]
    }
   ],
   "source": [
    "print(text, '\\n\\n')\n",
    "print(delete_duplicates(text))"
   ]
  },
  {
   "cell_type": "markdown",
   "metadata": {},
   "source": [
    "## Задание 4\n",
    "Напишите функцию, которая будет проверять номер сотового телефона на валидность, если он валиден, то переводить его в формат:   \n",
    "+7(xxx)-xxx-xx-xx  \n",
    "Постарайтесь предусмотреть как можно больше адекватных форматов изначального ввода номера.\n",
    "Примеры правильных и неправильных форматов:\n",
    "- +7 955 555-55-55;\n",
    "- 955555555;\n",
    "- 8(955)555-55-55;\n",
    "- +7 955 555 55 55;\n",
    "- 7(955) 555-55-55;\n",
    "- +7 955+555+55+55."
   ]
  },
  {
   "cell_type": "code",
   "execution_count": 11,
   "metadata": {},
   "outputs": [
    {
     "name": "stdout",
     "output_type": "stream",
     "text": [
      "+7(955)-555-55-55\n",
      "Введен некорректный номер 955555555.\n",
      "+7(955)-555-55-55\n",
      "Введен некорректный номер 95555555555.\n",
      "+7(955)-555-55-55\n",
      "+7(955)-555-55-55\n",
      "+7(955)-555-55-55\n",
      "Введен некорректный номер +7 955+555+55+55.\n",
      "Введен некорректный номер 7(955 555-55-55.\n",
      "Введен некорректный номер 7955) 555-55-55.\n",
      "+7(955)-555-55-55\n",
      "Введен некорректный номер 7(955) 000 00 00.\n"
     ]
    }
   ],
   "source": [
    "# v1 - вся проверка в одном регулярном выражении\n",
    "\n",
    "mob_number_check = '^((\\+?7)|8)?[ -]?(\\((?=9\\d{2}\\)))?9\\d{2}((?<=\\(9\\d{2})\\))?[ -]?\\d{2}([1-9]|(?<!0{2})0)([ -]?\\d{2}){2}$'\n",
    "# Проверяет российские мобильные номера\n",
    "# сейчас все DEF-коды у нас начинаются с '9'\n",
    "# валидность DEF-кодов не проверяется\n",
    "# если есть скобки вокруг DEF-кода, они должны быть правильно закрыты (в реальной жизни я бы так не делала)\n",
    "# первые 3 цифры номера не могут быть 000\n",
    "\n",
    "# проверка скобок\n",
    "#'\\((?=.+\\)).+(?<=\\(\\d{3})\\)'\n",
    "\n",
    "def check_mobile(number, pattern):\n",
    "    match = re.match(pattern, number)\n",
    "    if match:\n",
    "        mobile = ''.join(re.split('\\D', number)).strip()[-10:]\n",
    "        return '+7(' + mobile[0:3] +')-' + mobile[3:6] + '-' + mobile[6:8] + '-' + mobile[8:]\n",
    "    return f\"Введен некорректный номер {number}.\"\n",
    "    \n",
    "# check    \n",
    "print(check_mobile('+7 955 555-55-55', mob_number_check))\n",
    "print(check_mobile('955555555', mob_number_check))    # мало цифр\n",
    "print(check_mobile('9555555555', mob_number_check)) \n",
    "print(check_mobile('95555555555', mob_number_check))  # много цифр\n",
    "print(check_mobile('8(955)555-55-55', mob_number_check))\n",
    "print(check_mobile('+7 955 555 55 55', mob_number_check))\n",
    "print(check_mobile('7(955) 555-55-55', mob_number_check))\n",
    "print(check_mobile('+7 955+555+55+55', mob_number_check)) # '+' как разделитель использовать нельзя\n",
    "print(check_mobile('7(955 555-55-55', mob_number_check)) # скобки\n",
    "print(check_mobile('7955) 555-55-55', mob_number_check)) # скобки\n",
    "print(check_mobile('7(955)-555-55-55', mob_number_check))\n",
    "print(check_mobile('7(955) 000 00 00', mob_number_check)) # в номере не могут быть все нули"
   ]
  },
  {
   "cell_type": "code",
   "execution_count": 12,
   "metadata": {},
   "outputs": [
    {
     "name": "stdout",
     "output_type": "stream",
     "text": [
      "+7(955)-555-55-55\n",
      "Введен некорректный номер 955555555.\n",
      "+7(955)-555-55-55\n",
      "Введен некорректный номер 95555555555.\n",
      "+7(955)-555-55-55\n",
      "+7(955)-555-55-55\n",
      "+7(955)-555-55-55\n",
      "Введен некорректный номер +7955+555+55+55.\n",
      "+7(955)-555-55-55\n",
      "+7(955)-555-55-55\n",
      "+7(955)-555-55-55\n",
      "Введен некорректный номер 79550010000.\n"
     ]
    }
   ],
   "source": [
    "# v2 если все ненужные символы убирать при вводе, регулярное выражение для проверки сильно упростится\n",
    "# поэтому можно использовать скобочные группировки, чтобы добраться до частей номера\n",
    "\n",
    "mob_number_check = '^((\\+?7)|8)?(9\\d{2})(\\d{2}([1-9]|(?<!0{2})0))(\\d{2})(\\d([1-9]|(?<!0{2})0))$'\n",
    "# Проверяет российские мобильные номера\n",
    "# сейчас все DEF-коды у нас начинаются с '9'\n",
    "# валидность DEF-кодов не проверяется\n",
    "# первые 3 цифры номера не могут быть 000 и последние 4 цифры не могут быть 0000\n",
    "\n",
    "\n",
    "def check_mobile(number, pattern):\n",
    "    number = re.sub(r'[-\\s().]', '', number)\n",
    "    match = re.match(pattern, number)\n",
    "    if match:\n",
    "        return f\"+7({match[3]})-{match[4]}-{match[6]}-{match[7]}\"\n",
    "    return f\"Введен некорректный номер {number}.\"\n",
    "    \n",
    "# check    \n",
    "print(check_mobile('+7 955 555-55-55', mob_number_check))\n",
    "print(check_mobile('955555555', mob_number_check))    # мало цифр\n",
    "print(check_mobile('9555555555', mob_number_check)) \n",
    "print(check_mobile('95555555555', mob_number_check))  # много цифр\n",
    "print(check_mobile('8(955)555-55-55', mob_number_check))\n",
    "print(check_mobile('+7 955 555 55 55', mob_number_check))\n",
    "print(check_mobile('7(955) 555-55-55', mob_number_check))\n",
    "print(check_mobile('+7 955+555+55+55', mob_number_check)) # '+' как разделитель использовать нельзя\n",
    "print(check_mobile('7(955 555-55-55', mob_number_check))\n",
    "print(check_mobile('7955) 555-55-55', mob_number_check))\n",
    "print(check_mobile('7(955)-555-55-55', mob_number_check))\n",
    "print(check_mobile('7(955) 001 00 00', mob_number_check)) # в номере не могут быть три первых нуля или 4 последних"
   ]
  },
  {
   "cell_type": "code",
   "execution_count": null,
   "metadata": {},
   "outputs": [],
   "source": []
  }
 ],
 "metadata": {
  "kernelspec": {
   "display_name": "Python 3",
   "language": "python",
   "name": "python3"
  },
  "language_info": {
   "codemirror_mode": {
    "name": "ipython",
    "version": 3
   },
   "file_extension": ".py",
   "mimetype": "text/x-python",
   "name": "python",
   "nbconvert_exporter": "python",
   "pygments_lexer": "ipython3",
   "version": "3.7.4"
  }
 },
 "nbformat": 4,
 "nbformat_minor": 2
}
