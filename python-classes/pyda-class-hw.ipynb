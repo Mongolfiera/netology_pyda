{
 "cells": [
  {
   "cell_type": "markdown",
   "metadata": {},
   "source": [
    "# Домашнее задание 8\n",
    "\n",
    "#### КЛАССЫ И ОБЪЕКТНО-ОРИЕНТИРОВАННОЕ ПРОГРАММИРОВАНИЕ"
   ]
  },
  {
   "cell_type": "markdown",
   "metadata": {},
   "source": [
    "**Задание 1**\n",
    "\n",
    "Напишите функцию, которая возвращает название валюты (поле 'Name') с максимальным значением курса с помощью сервиса https://www.cbr-xml-daily.ru/daily_json.js"
   ]
  },
  {
   "cell_type": "code",
   "execution_count": 215,
   "metadata": {},
   "outputs": [],
   "source": [
    "import requests"
   ]
  },
  {
   "cell_type": "code",
   "execution_count": 216,
   "metadata": {},
   "outputs": [
    {
     "data": {
      "text/plain": [
       "'Фунт стерлингов Соединенного королевства'"
      ]
     },
     "execution_count": 216,
     "metadata": {},
     "output_type": "execute_result"
    }
   ],
   "source": [
    "def max_rate_cur():\n",
    "    '''\n",
    "    Возвращает название валюты с максимальным значением курса за единицу\n",
    "    Если таких несколько (что крайне маловероятно), возвращает первое\n",
    "    СДР (специальные права заимствования) МВФ валютой не считаются и из анализа исключаются \n",
    "    '''\n",
    "    try:\n",
    "        rates = requests.get('https://www.cbr-xml-daily.ru/daily_json.js').json()['Valute']\n",
    "    except:\n",
    "        print(\"Ошибка при получении данных.\")\n",
    "        return\n",
    "    \n",
    "    only_rates = [rate for rate in rates.values() if rate['CharCode'] != 'XDR'] # excl SDR - a busket of currencies\n",
    "    \n",
    "    return max(only_rates, key = lambda x : x['Value'] / x['Nominal'])['Name']\n",
    "    \n",
    "max_rate_cur()"
   ]
  },
  {
   "cell_type": "markdown",
   "metadata": {},
   "source": [
    "**Задание 2**\n",
    "\n",
    "Добавьте в класс Rate параметр diff (со значениями True или False), который в случае значения True в методах eur и usd будет возвращать не курс валюты, а изменение по сравнению в прошлым значением. Считайте, self.diff будет принимать значение True только при возврате значения курса. При отображении всей информации о валюте он не используется."
   ]
  },
  {
   "cell_type": "code",
   "execution_count": 217,
   "metadata": {},
   "outputs": [],
   "source": [
    "import requests\n",
    "\n",
    "class Rate:\n",
    "    def __init__(self, format='value', diff = False):\n",
    "        self.format = format\n",
    "        self.diff = diff\n",
    "    \n",
    "    def exchange_rates(self):\n",
    "        \"\"\"\n",
    "        Возвращает ответ сервиса с информацией о валютах в виде:\n",
    "        \n",
    "        {\n",
    "            'AMD': {\n",
    "                'CharCode': 'AMD',\n",
    "                'ID': 'R01060',\n",
    "                'Name': 'Армянских драмов',\n",
    "                'Nominal': 100,\n",
    "                'NumCode': '051',\n",
    "                'Previous': 14.103,\n",
    "                'Value': 14.0879\n",
    "                },\n",
    "            ...\n",
    "        }\n",
    "        \"\"\"\n",
    "        r = requests.get('https://www.cbr-xml-daily.ru/daily_json.js')\n",
    "        return r.json()['Valute']\n",
    "    \n",
    "    def make_format(self, currency):\n",
    "        \"\"\"\n",
    "        Возвращает информацию о валюте currency в вариантах:\n",
    "        1. полная информация о валюте при self.format = 'full':\n",
    "        Rate('full').make_format('EUR')\n",
    "        {\n",
    "            'CharCode': 'EUR',\n",
    "            'ID': 'R01239',\n",
    "            'Name': 'Евро',\n",
    "            'Nominal': 1,\n",
    "            'NumCode': '978',\n",
    "            'Previous': 79.6765,\n",
    "            'Value': 79.4966\n",
    "        }\n",
    "        \n",
    "        2. информация о курсе на сегодня:\n",
    "        Rate('value').make_format('EUR')\n",
    "        79.4966\n",
    "        \n",
    "        3. изменение курса за последний день:\n",
    "        Rate('value', True).make_format('EUR')\n",
    "        -0.1202\n",
    "        \"\"\"\n",
    "        response = self.exchange_rates()\n",
    "        \n",
    "        if currency in response:\n",
    "            if self.format == 'full':\n",
    "                return response[currency]\n",
    "            \n",
    "            if self.format == 'value':\n",
    "                if not self.diff:\n",
    "                    return response[currency]['Value']\n",
    "                return round(response[currency]['Value'] - response[currency]['Previous'], 4)\n",
    "        \n",
    "        return 'Error'\n",
    "    \n",
    "    def eur(self):\n",
    "        \"\"\"Возвращает курс евро на сегодня в формате self.format\"\"\"\n",
    "        return self.make_format('EUR')\n",
    "    \n",
    "    def usd(self):\n",
    "        \"\"\"Возвращает курс доллара на сегодня в формате self.format\"\"\"\n",
    "        return self.make_format('USD')\n",
    "\n",
    "    def AZN(self):\n",
    "        \"\"\"Возвращает курс азербайджанского маната на сегодня в формате self.format\"\"\"\n",
    "        return self.make_format('AZN')"
   ]
  },
  {
   "cell_type": "code",
   "execution_count": 218,
   "metadata": {},
   "outputs": [
    {
     "name": "stdout",
     "output_type": "stream",
     "text": [
      "61.5333\n",
      "-0.0361\n",
      "68.5358\n",
      "-0.1202\n",
      "36.2707\n",
      "-0.0213\n"
     ]
    }
   ],
   "source": [
    "print(Rate().usd())\n",
    "print(Rate(diff = True).usd())\n",
    "\n",
    "print(Rate().eur())\n",
    "print(Rate(diff = True).eur())\n",
    "\n",
    "print(Rate().AZN())\n",
    "print(Rate('value', True).AZN())"
   ]
  },
  {
   "cell_type": "markdown",
   "metadata": {},
   "source": [
    "**Задание 3**\n",
    "\n",
    "Напишите класс Designer, который учитывает количество международных премий. Подсказки в коде занятия в разделе \"Домашнее задание задача 3\":\n",
    "\n",
    "    Напишите класс Designer, который учитывает количество международных премий для дизайнеров (из презентации: \"Повышение на 1 грейд за каждые 7 баллов. Получение международной премии – это +2 балла\"). Считайте, что при выходе на работу сотрудник уже имеет две премии и их количество не меняется со стажем (конечно если хотите это можно вручную менять). Выполните проверку для 20 аккредитаций дизайнера Елены."
   ]
  },
  {
   "cell_type": "code",
   "execution_count": 219,
   "metadata": {},
   "outputs": [],
   "source": [
    "class Employee:\n",
    "    def __init__(self, name, seniority):\n",
    "        self.name = name\n",
    "        self.seniority = seniority\n",
    "        \n",
    "        self.grade = 1\n",
    "    \n",
    "    def grade_up(self):\n",
    "        \"\"\"Повышает уровень сотрудника\"\"\"\n",
    "        self.grade += 1\n",
    "    \n",
    "    def publish_grade(self):\n",
    "        \"\"\"Публикация результатов аккредитации сотрудников\"\"\"\n",
    "        print(self.name, self.grade)\n",
    "    \n",
    "    def check_if_it_is_time_for_upgrade(self):\n",
    "        pass"
   ]
  },
  {
   "cell_type": "code",
   "execution_count": 220,
   "metadata": {},
   "outputs": [],
   "source": [
    "class Designer(Employee):\n",
    "    def __init__(self, name, seniority, awards):\n",
    "        super().__init__(name, seniority)\n",
    "        self.awards = awards\n",
    "        self.seniority += awards * 2\n",
    "    \n",
    "    def check_if_it_is_time_for_upgrade(self):\n",
    "        # для каждой аккредитации увеличиваем счетчик на 1\n",
    "        # пока считаем, что все дизайнеры проходят аккредитацию\n",
    "        self.seniority += 1\n",
    "        \n",
    "        # условие повышения сотрудника из презентации\n",
    "        if self.seniority % 7 == 0:          # т.к. премии учитываются с шагом 2, если добавить изменение премий, можно пропустить апгрейд\n",
    "            self.grade_up()\n",
    "        \n",
    "        # публикация результатов\n",
    "        return self.publish_grade()"
   ]
  },
  {
   "cell_type": "code",
   "execution_count": 221,
   "metadata": {},
   "outputs": [],
   "source": [
    "elena = Designer('Елена', seniority=0, awards=2)"
   ]
  },
  {
   "cell_type": "code",
   "execution_count": 222,
   "metadata": {},
   "outputs": [
    {
     "name": "stdout",
     "output_type": "stream",
     "text": [
      "Елена 1\n",
      "Елена 1\n",
      "Елена 2\n",
      "Елена 2\n",
      "Елена 2\n",
      "Елена 2\n",
      "Елена 2\n",
      "Елена 2\n",
      "Елена 2\n",
      "Елена 3\n",
      "Елена 3\n",
      "Елена 3\n",
      "Елена 3\n",
      "Елена 3\n",
      "Елена 3\n",
      "Елена 3\n",
      "Елена 4\n",
      "Елена 4\n",
      "Елена 4\n",
      "Елена 4\n"
     ]
    }
   ],
   "source": [
    "for i in range(20):\n",
    "    elena.check_if_it_is_time_for_upgrade()"
   ]
  },
  {
   "cell_type": "markdown",
   "metadata": {},
   "source": [
    "**С возможностью добавления премий**"
   ]
  },
  {
   "cell_type": "code",
   "execution_count": 223,
   "metadata": {},
   "outputs": [],
   "source": [
    "class Designer(Employee):\n",
    "    def __init__(self, name, seniority, awards):\n",
    "        super().__init__(name, seniority)\n",
    "        self.awards = awards\n",
    "        self.seniority += awards * 2\n",
    "    \n",
    "    def __str__(self):\n",
    "        # возвращает информацию об экземпляре класса\n",
    "        return f'Designer with {self.seniority} seniority, {self.awards} awards, {self.grade} grade'\n",
    "    \n",
    "    def check_if_it_is_time_for_upgrade(self):\n",
    "        # условие повышения сотрудника из презентации\n",
    "        if self.seniority // 7 >= self.grade:          # т.к. премии учитываются с шагом 2\n",
    "            self.grade_up()\n",
    "        \n",
    "        # публикация результатов\n",
    "        return self.publish_grade()\n",
    "    \n",
    "    def new_award(self):\n",
    "        # для каждой новой международной премии увеличиваем счетчик на 2   \n",
    "        print('! award !')\n",
    "        self.awards += 1\n",
    "        self.seniority += 2\n",
    "        self.check_if_it_is_time_for_upgrade()\n",
    "        \n",
    "    def pass_accreditation(self):\n",
    "        # для каждой аккредитации увеличиваем счетчик на 1\n",
    "        # пока считаем, что все дизайнеры проходят аккредитацию\n",
    "        self.seniority += 1\n",
    "        self.check_if_it_is_time_for_upgrade()    "
   ]
  },
  {
   "cell_type": "code",
   "execution_count": 224,
   "metadata": {},
   "outputs": [
    {
     "name": "stdout",
     "output_type": "stream",
     "text": [
      "Елена 1\n",
      "Designer with 5 seniority, 2 awards, 1 grade\n",
      "Елена 1\n",
      "Designer with 6 seniority, 2 awards, 1 grade\n",
      "Елена 2\n",
      "Designer with 7 seniority, 2 awards, 2 grade\n",
      "Елена 2\n",
      "Designer with 8 seniority, 2 awards, 2 grade\n",
      "Елена 2\n",
      "Designer with 9 seniority, 2 awards, 2 grade\n",
      "Елена 2\n",
      "Designer with 10 seniority, 2 awards, 2 grade\n",
      "Елена 2\n",
      "Designer with 11 seniority, 2 awards, 2 grade\n",
      "Елена 2\n",
      "! award !\n",
      "Елена 3\n",
      "Designer with 14 seniority, 3 awards, 3 grade\n",
      "Елена 3\n",
      "Designer with 15 seniority, 3 awards, 3 grade\n",
      "Елена 3\n",
      "! award !\n",
      "Елена 3\n",
      "Designer with 18 seniority, 4 awards, 3 grade\n",
      "Елена 3\n",
      "Designer with 19 seniority, 4 awards, 3 grade\n",
      "Елена 3\n",
      "Designer with 20 seniority, 4 awards, 3 grade\n",
      "Елена 4\n",
      "Designer with 21 seniority, 4 awards, 4 grade\n",
      "Елена 4\n",
      "Designer with 22 seniority, 4 awards, 4 grade\n",
      "Елена 4\n",
      "Designer with 23 seniority, 4 awards, 4 grade\n",
      "Елена 4\n",
      "Designer with 24 seniority, 4 awards, 4 grade\n",
      "Елена 4\n",
      "Designer with 25 seniority, 4 awards, 4 grade\n",
      "Елена 4\n",
      "Designer with 26 seniority, 4 awards, 4 grade\n",
      "Елена 4\n",
      "Designer with 27 seniority, 4 awards, 4 grade\n",
      "Елена 5\n",
      "Designer with 28 seniority, 4 awards, 5 grade\n"
     ]
    }
   ],
   "source": [
    "import random \n",
    "\n",
    "elena = Designer('Елена', seniority=0, awards=2)\n",
    "\n",
    "for i in range(20):\n",
    "    elena.pass_accreditation()\n",
    "    if not random.randint(0, 7):\n",
    "        elena.new_award()\n",
    "    print(elena)"
   ]
  },
  {
   "cell_type": "code",
   "execution_count": null,
   "metadata": {},
   "outputs": [],
   "source": []
  }
 ],
 "metadata": {
  "kernelspec": {
   "display_name": "Python 3",
   "language": "python",
   "name": "python3"
  },
  "language_info": {
   "codemirror_mode": {
    "name": "ipython",
    "version": 3
   },
   "file_extension": ".py",
   "mimetype": "text/x-python",
   "name": "python",
   "nbconvert_exporter": "python",
   "pygments_lexer": "ipython3",
   "version": "3.7.4"
  }
 },
 "nbformat": 4,
 "nbformat_minor": 2
}
