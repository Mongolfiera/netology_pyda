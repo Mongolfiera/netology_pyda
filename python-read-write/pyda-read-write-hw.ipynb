{
 "cells": [
  {
   "cell_type": "markdown",
   "metadata": {},
   "source": [
    "# Домашнее задание\n",
    "1. Переведите содержимое файла purchase_log.txt в словарь purchases вида:\n",
    "```python\n",
    "{'1840e0b9d4': 'Продукты', ...}\n",
    "```\n",
    "\n",
    "2. Для каждого user_id в файле visit_log.csv добавьте третий столбец с категорией покупки (если покупка была).\n",
    "\n",
    "3. Запишите в файл funnel.csv визиты из файла visit_log.csv, в которых были покупки с указанием категории.\n",
    "\n",
    "Учтите условия на данные:\n",
    "- содержимое purchase_log.txt помещается в оперативную память компьютера\n",
    "- содержимое visit_log.csv - нет; используйте только построчную обработку этого файла"
   ]
  },
  {
   "cell_type": "code",
   "execution_count": 8,
   "metadata": {},
   "outputs": [],
   "source": [
    "import json\n",
    "\n",
    "# 1 Переведите содержимое файла purchase_log.txt в словарь purchases вида:\n",
    "# {'1840e0b9d4': 'Продукты', ...}\n",
    "\n",
    "# В этом пункте у нас из 99 999 записей останется 99 517. Остальные 482 будут утеряны, так как ключ в словаре уникален и более поздние запись с неуникальным ИД затрут более ренние\n",
    "# Инструкций что делать с повторяющимися записями не было, поэтому ничего не делаю (можно было бы из покупок сделать список, но это противоречит условию) \n",
    "\n",
    "purchases = {}\n",
    "\n",
    "with open('purchase_log.txt', 'r', encoding='utf-8') as p:\n",
    "    next(p)\n",
    "    for line in p:\n",
    "        purchase = json.loads(line.strip())\n",
    "        category = purchase['category']\n",
    "        purchases[purchase['user_id']] = category"
   ]
  },
  {
   "cell_type": "code",
   "execution_count": 9,
   "metadata": {},
   "outputs": [],
   "source": [
    "# 2 Для каждого user_id в файле visit_log.csv добавьте третий столбец с категорией покупки (если покупка была).\n",
    "# Не очень понятно, нужен ли файл равный по длине visit_log, но с добавленными покупками, если были. \n",
    "# На всякий случай сделала - visit-purchase\n",
    "\n",
    "# 3 Запишите в файл funnel.csv визиты из файла visit_log.csv, в которых были покупки с указанием категории.\n",
    "# В purchase_log есть ИД которых нет в visit_log. Так как мы идем по visit_log, такие покупки никуда не попали \n",
    "\n",
    "with open('visit_log.csv', 'r') as v, open('visit_purchase.csv', 'w') as p, open('funnel.csv', 'w') as f:\n",
    "    headlines = v.readline().strip() + ',categories\\n'\n",
    "    p.write(headlines)\n",
    "    f.write(headlines)\n",
    "\n",
    "    for line in v:\n",
    "        visit = line.strip().split(',')\n",
    "        category = purchases.get(visit[0])\n",
    "        if category:\n",
    "            visit.append(category)\n",
    "            f.write(','.join(visit) + '\\n')\n",
    "        p.write(','.join(visit) + '\\n')"
   ]
  },
  {
   "cell_type": "code",
   "execution_count": null,
   "metadata": {},
   "outputs": [],
   "source": []
  }
 ],
 "metadata": {
  "kernelspec": {
   "display_name": "Python 3",
   "language": "python",
   "name": "python3"
  },
  "language_info": {
   "codemirror_mode": {
    "name": "ipython",
    "version": 3
   },
   "file_extension": ".py",
   "mimetype": "text/x-python",
   "name": "python",
   "nbconvert_exporter": "python",
   "pygments_lexer": "ipython3",
   "version": "3.7.4"
  }
 },
 "nbformat": 4,
 "nbformat_minor": 2
}
