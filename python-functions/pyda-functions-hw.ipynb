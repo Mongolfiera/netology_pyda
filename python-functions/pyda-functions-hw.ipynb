{
 "cells": [
  {
   "cell_type": "markdown",
   "metadata": {},
   "source": [
    "## Задание 1"
   ]
  },
  {
   "cell_type": "markdown",
   "metadata": {},
   "source": [
    "Дан список вида:"
   ]
  },
  {
   "cell_type": "code",
   "execution_count": 33,
   "metadata": {},
   "outputs": [],
   "source": [
    "data = [\n",
    "    [13, 25, 23, 34],\n",
    "    [45, 32, 44, 47],\n",
    "    [12, 33, 23, 95],\n",
    "    [13, 53, 34, 35]\n",
    "]"
   ]
  },
  {
   "cell_type": "markdown",
   "metadata": {},
   "source": [
    "Напишите функцию, которая возвращает сумму элементов на диагонали. Т. е. 13+32+23+35.  \n",
    "Список может быть любой длины, но всегда является \"квадратным\" (количество элементов во вложенных списках равно их количеству)."
   ]
  },
  {
   "cell_type": "code",
   "execution_count": 47,
   "metadata": {},
   "outputs": [
    {
     "name": "stdout",
     "output_type": "stream",
     "text": [
      "103\n"
     ]
    }
   ],
   "source": [
    "def sum_diagonal(matrix):\n",
    "    matrix_size = len(matrix)\n",
    "    sum = 0\n",
    "    \n",
    "    for n in range(matrix_size):\n",
    "        sum += matrix[n][n]\n",
    "        \n",
    "    return(sum)\n",
    "\n",
    "\n",
    "print(sum_diagonal(data))"
   ]
  },
  {
   "cell_type": "code",
   "execution_count": 48,
   "metadata": {},
   "outputs": [
    {
     "name": "stdout",
     "output_type": "stream",
     "text": [
      "103\n"
     ]
    }
   ],
   "source": [
    "# v2\n",
    "def sum_diagonal1(matrix):\n",
    "    matrix_size = len(matrix)\n",
    "    return sum([number for lines in data for number in lines][0: : matrix_size + 1])\n",
    "\n",
    "print(sum_diagonal1(data))"
   ]
  },
  {
   "cell_type": "markdown",
   "metadata": {},
   "source": [
    "## Задание 2"
   ]
  },
  {
   "cell_type": "markdown",
   "metadata": {},
   "source": [
    "Напишите функцию, возвращающую сумму первых n чисел Фибоначчи (для этого вам может понадобится ознакомиться с рекурсией)."
   ]
  },
  {
   "cell_type": "code",
   "execution_count": 51,
   "metadata": {},
   "outputs": [
    {
     "name": "stdout",
     "output_type": "stream",
     "text": [
      "376\n"
     ]
    }
   ],
   "source": [
    "# v1 with for-loop\n",
    "\n",
    "def get_fibonacci_sum(n):\n",
    "    if n == 0:\n",
    "        return 0\n",
    "    fibonacci_numbers = [0, 1]\n",
    "    \n",
    "    for i in range(2, n + 1):\n",
    "        fibonacci_numbers.append(fibonacci_numbers[i - 1] + fibonacci_numbers[i - 2])\n",
    "        \n",
    "    return sum(fibonacci_numbers)\n",
    "\n",
    "\n",
    "print(get_fibonacci_sum(12))"
   ]
  },
  {
   "cell_type": "code",
   "execution_count": 52,
   "metadata": {},
   "outputs": [
    {
     "name": "stdout",
     "output_type": "stream",
     "text": [
      "376\n"
     ]
    }
   ],
   "source": [
    "# v2 with recursion and map\n",
    "\n",
    "def get_fibonacci_number(n):\n",
    "    if n == 0:\n",
    "        return 0\n",
    "    if n <= 2:\n",
    "        return 1\n",
    "    return get_fibonacci_number(n - 1) + get_fibonacci_number(n - 2)\n",
    "\n",
    "\n",
    "def get_sum(func, n):\n",
    "    return sum(map(func, range(n + 1)))\n",
    "\n",
    "print(get_sum(get_fibonacci_number, 12))"
   ]
  },
  {
   "cell_type": "code",
   "execution_count": 53,
   "metadata": {},
   "outputs": [
    {
     "name": "stdout",
     "output_type": "stream",
     "text": [
      "376\n"
     ]
    }
   ],
   "source": [
    "# v3 оказывается сумма n числел Фибоначчи = число Фибоначчи n+2 минус один\n",
    "#\n",
    "# F(2) = F(1) + F(0)        -> F(0) = F(2) - F(1)\n",
    "# F(3) = F(2) + F(1)        -> F(1) = F(3) - F(2)\n",
    "# ...\n",
    "# F(n) = F(n-1) + F(n-2)    -> F(n-2) = F(n) - F(n-1)\n",
    "# F(n+1) = F(n) + F(n-1)    -> F(n-1) = F(n+1) - F(n)\n",
    "# F(n+2) = F(n+1) + F(n)    -> F(n) = F(n+2) - F(n+1)\n",
    "#                            SUM(F(0)...F(n)) = F(n+2) - F(n+1) + F(n+1) - F(n) ... + F(3) - F(2) + F(2) - F(1)\n",
    "#\n",
    "# !!!!!-----!!!!!-----!!!!!  SUM(F(0)...F(n)) = F(n+2) - F(1) = F(n+2) - 1  !!!!!-----!!!!!-----!!!!!\n",
    "\n",
    "def get_fib_sum(n):\n",
    "    return get_fibonacci_number(n+2) - 1\n",
    "\n",
    "print(get_fib_sum(12))"
   ]
  },
  {
   "cell_type": "markdown",
   "metadata": {},
   "source": [
    "## Задание 3\n"
   ]
  },
  {
   "cell_type": "markdown",
   "metadata": {},
   "source": [
    "Напишите функцию, преобразующую произвольный список вида ['2018-01-01', 'yandex', 'cpc', 100] (он может быть любой длины) в словарь {'2018-01-01': {'yandex': {'cpc': 100}}}"
   ]
  },
  {
   "cell_type": "code",
   "execution_count": 54,
   "metadata": {},
   "outputs": [],
   "source": [
    "my_list = ['2018-01-01', 'yandex', 'cpc', 100, 'qwe', 'rty', 'uiop', 'cpc', 100, '2018-01-01', 'yandex', 'cpc', 100]"
   ]
  },
  {
   "cell_type": "code",
   "execution_count": 55,
   "metadata": {},
   "outputs": [
    {
     "name": "stdout",
     "output_type": "stream",
     "text": [
      "{'2018-01-01': {'yandex': {'cpc': {100: {'qwe': {'rty': {'uiop': {'cpc': {100: {'2018-01-01': {'yandex': {'cpc': [100]}}}}}}}}}}}}\n"
     ]
    }
   ],
   "source": [
    "def convert_list_to_dictonary(my_list):\n",
    "    my_key, *my_value = my_list \n",
    "\n",
    "    if len(my_list) == 2:\n",
    "        return {my_key: my_value}\n",
    "\n",
    "    return {my_key: convert_list_to_dictonary(my_value)}\n",
    "\n",
    "\n",
    "print(convert_list_to_dictonary(my_list))"
   ]
  },
  {
   "cell_type": "markdown",
   "metadata": {},
   "source": [
    "## Задание 4"
   ]
  },
  {
   "cell_type": "markdown",
   "metadata": {},
   "source": [
    "Вы работаете секретарем и вам постоянно приходят различные документы. Вы должны быть очень внимательны, чтобы не потерять ни один документ. Каталог документов хранится в следующем виде:"
   ]
  },
  {
   "cell_type": "code",
   "execution_count": 79,
   "metadata": {},
   "outputs": [],
   "source": [
    "documents = [\n",
    "    {'type': 'passport', 'number': '2207 876234', 'name': 'Василий Гупкин'},\n",
    "    {'type': 'passport', 'number': '5455 028765', 'name': 'Терри Джонс'},\n",
    "    {'type': 'passport', 'number': '5455 002299', 'name': 'Майкл Пейлин'},\n",
    "    {'type': 'passport', 'number': '5400 028765', 'name': 'Джон Клиз'},\n",
    "    {'type': 'invoice', 'number': '11-2', 'name': 'Геннадий Покемонов'},\n",
    "    {'type': 'insurance', 'number': '10006', 'name': 'Аристарх Павлов'}\n",
    "]"
   ]
  },
  {
   "cell_type": "markdown",
   "metadata": {},
   "source": [
    "Перечень полок, на которых находятся документы хранится в следующем виде:"
   ]
  },
  {
   "cell_type": "code",
   "execution_count": 80,
   "metadata": {},
   "outputs": [],
   "source": [
    "directories = {\n",
    "    '1': ['2207 876234', '11-2', '5455 028765'],\n",
    "    '2': ['10006', '5400 028765', '5455 002299'],\n",
    "    '3': []\n",
    "}"
   ]
  },
  {
   "cell_type": "markdown",
   "metadata": {},
   "source": [
    "Необходимо реализовать пользовательские команды (внимание! это не название функций, которые должны быть выразительными, а команды, которые вводит пользователь, чтобы получить необходимый результат):\n",
    "  \n",
    "- p – people – команда, которая спросит номер документа и выведет имя человека, которому он принадлежит;  \n",
    "- s – shelf – команда, которая спросит номер документа и выведет номер полки, на которой он находится  \n",
    "Правильно обработайте ситуацию, когда пользователь будет вводить несуществующий документ.\n",
    "- l – list – команда, которая выведет список всех документов в формате   \n",
    "**passport \"2207 876234\" \"Василий Гупкин\"**  \n",
    "- as – add shelf – команда, которая спросит номер новой полки и добавит ее в перечень\n",
    "- d – delete – команда, которая спросит номер документа и удалит его из каталога и из перечня полок. Предусмотрите сценарий, когда пользователь вводит несуществующий документ;  \n",
    "- m – move – команда, которая спросит номер документа и целевую полку и переместит его с текущей полки на целевую. Корректно обработайте кейсы, когда пользователь пытается переместить несуществующий документ или переместить документ на несуществующую полку;  \n",
    "- a – add – команда, которая добавит новый документ в каталог и в перечень полок, спросив его номер, тип, имя владельца и номер полки, на котором он будет храниться."
   ]
  },
  {
   "cell_type": "code",
   "execution_count": 81,
   "metadata": {},
   "outputs": [],
   "source": [
    "# menu\n",
    "\n",
    "USER_CHOICE = ''' Введите:\n",
    "p – people – для получения имени владельца по номеру документа\n",
    "s – shelf – для получения номера полки хранения по номеру документа\n",
    "l – list – для получментя списка всех документов\n",
    "as – add shelf – для добавления новой полки\n",
    "d – delete – для удаления документа\n",
    "m – move – для перемещения документа\n",
    "a – add – для добавления документа\n",
    "q - quit - для выхода\n",
    "Ваш выбор: \n",
    "'''\n",
    "\n",
    "def menu():\n",
    "    user_input = input(USER_CHOICE)\n",
    "    while user_input != 'q':\n",
    "        if user_input == 'p':\n",
    "            find_owner()\n",
    "        elif user_input == 's':\n",
    "            find_shelf()\n",
    "        elif user_input =='l':\n",
    "            list_documents()\n",
    "        elif user_input == 'as':\n",
    "            add_shelf()\n",
    "        elif user_input == 'd':\n",
    "            delete_document()\n",
    "        elif user_input == 'm':\n",
    "            move_document()\n",
    "        elif user_input == 'a':\n",
    "            add_document()\n",
    "        else:\n",
    "            print(\"Вы ввели неправильную команду. Попробуйте еще раз.\")\n",
    "\n",
    "        user_input = input(USER_CHOICE)"
   ]
  },
  {
   "cell_type": "code",
   "execution_count": 82,
   "metadata": {},
   "outputs": [],
   "source": [
    "# support functions - storage handlers\n",
    "\n",
    "def find_document_by_number(document_number):\n",
    "    return [document for document in documents if document[\"number\"] == document_number]\n",
    "\n",
    "\n",
    "def find_shelf_by_number(shelf_number):\n",
    "    return shelf_number in directories.keys()\n",
    "\n",
    "\n",
    "def find_shelf_by_document_number(document_number):\n",
    "    # return [shelf_number for shelf_number in directories if document_number in directories[shelf_number]][0] # - или так\n",
    "    for shelf_number in directories.keys():\n",
    "        if document_number in directories[shelf_number]:\n",
    "            return shelf_number\n",
    "\n",
    "\n",
    "def add_document_to_shelf(document_number, shelf_number):\n",
    "    directories[shelf_number].append(document_number)\n",
    "    \n",
    "\n",
    "def add_document_to_catalogue(document):\n",
    "    documents.append(document)\n",
    "\n",
    "\n",
    "def add_new_shelf(shelf_number):\n",
    "    directories[shelf_number] = []    \n",
    "    \n",
    "\n",
    "def remove_document_from_shelf(document_number):\n",
    "    shelf_number = find_shelf_by_document_number(document_number)\n",
    "    directories[shelf_number].remove(document_number)\n",
    "\n",
    "    \n",
    "def remove_document_from_catalogue(document):\n",
    "    documents.remove(document)\n",
    "\n",
    "\n",
    "def get_documents_data():\n",
    "    return [list(document.values()) for document in documents]"
   ]
  },
  {
   "cell_type": "code",
   "execution_count": 83,
   "metadata": {},
   "outputs": [],
   "source": [
    "# support functions - input getters\n",
    "\n",
    "def prompt_get_document_number():\n",
    "    document_number = input(\"Введите номер документа: \").strip()\n",
    "    while not find_document_by_number(document_number) and document_number != \"q\":\n",
    "        document_number = input(\"Документа с таким номером не существует, введите правильный номер документа или введите 'q' для выхода в основное меню: \").strip()\n",
    "    return document_number\n",
    "\n",
    "\n",
    "def prompt_get_shelf_number():\n",
    "    shelf_number = input(\"Введите номер полки хранения документа: \").strip()\n",
    "    while not find_shelf_by_number(shelf_number) and shelf_number != \"q\":\n",
    "        shelf_number = input(\"Такой полки не существует, введите существующую полку или введите 'q' для выхода в основное меню: \").strip()\n",
    "    return shelf_number\n",
    "\n",
    "\n",
    "def prompt_get_new_document_details():\n",
    "    new_document = {}\n",
    "    new_document[\"type\"] = input(\"Введите тип документа: \").strip()\n",
    "    new_document[\"number\"] = input(\"Введите номер документа: \").strip()\n",
    "    while find_document_by_number(new_document[\"number\"]) and new_document[\"number\"] != \"q\":\n",
    "        new_document[\"number\"] = input(\"Документ с таким номером уже существует, введите новый номер или введите 'q' для выхода в основное меню: \").strip()\n",
    "    if new_document[\"number\"] != \"q\":\n",
    "        new_document[\"name\"] = input(\"Введите имя владельца документа: \").strip()\n",
    "    return new_document\n",
    "\n",
    "\n",
    "def prompt_get_new_shelf_number():\n",
    "    new_shelf_number = input(\"Введите номер новой полки: \").strip()\n",
    "    while find_shelf_by_number(new_shelf_number) and new_shelf_number != \"q\":\n",
    "        new_shelf_number = input(\"Такая полка уже существует, введите новый номер или введите 'q' для выхода в основное меню: \").strip()\n",
    "    return new_shelf_number"
   ]
  },
  {
   "cell_type": "code",
   "execution_count": 86,
   "metadata": {},
   "outputs": [],
   "source": [
    "# menu commands\n",
    "\n",
    "# input == p\n",
    "def find_owner():\n",
    "    document_number = prompt_get_document_number()\n",
    "    if document_number == \"q\":\n",
    "        return\n",
    "    document = find_document_by_number(document_number)[0]\n",
    "    print(f\"Владелец документа - {document['name']}.\")\n",
    "\n",
    "\n",
    "# input == s\n",
    "def find_shelf():\n",
    "    document_number = prompt_get_document_number()\n",
    "    if document_number == \"q\":\n",
    "        return\n",
    "    shelf_number = find_shelf_by_document_number(document_number)\n",
    "    print(f\"Номер полки хранения документа - {shelf_number}.\")\n",
    "\n",
    "\n",
    "# input == l\n",
    "def list_documents():\n",
    "    output_data = get_documents_data()      \n",
    "    for line in output_data:\n",
    "        print(f\"{line[0]} \\\"{line[1]}\\\" \\\"{line[2]}\\\"\")\n",
    "\n",
    "\n",
    "# input == as\n",
    "def add_shelf():\n",
    "    new_shelf_number = prompt_get_new_shelf_number()\n",
    "    if new_shelf_number == \"q\":\n",
    "        return       \n",
    "    add_new_shelf(new_shelf_number)\n",
    "\n",
    "\n",
    "# input == d\n",
    "def delete_document():\n",
    "    document_number = prompt_get_document_number()\n",
    "    if document_number == \"q\":\n",
    "        return\n",
    "    remove_document_from_shelf(document_number)\n",
    "    remove_document_from_catalogue(find_document_by_number(document_number)[0])\n",
    "\n",
    "\n",
    "# input == m              \n",
    "def move_document():\n",
    "    document_number = prompt_get_document_number()\n",
    "    if document_number == \"q\":\n",
    "        return      \n",
    "    shelf_number = prompt_get_shelf_number()\n",
    "    if shelf_number == \"q\":\n",
    "        return\n",
    "    remove_document_from_shelf(document_number)\n",
    "    add_document_to_shelf(document_number, shelf_number)\n",
    "\n",
    "\n",
    "# input == a\n",
    "def add_document():\n",
    "    new_document = prompt_get_new_document_details()\n",
    "    if new_document[\"number\"] == \"q\":\n",
    "        return\n",
    "    shelf_number = prompt_get_shelf_number()\n",
    "    if shelf_number == \"q\":\n",
    "        return\n",
    "    add_document_to_catalogue(new_document)\n",
    "    add_document_to_shelf(new_document[\"number\"], shelf_number)"
   ]
  },
  {
   "cell_type": "code",
   "execution_count": 95,
   "metadata": {},
   "outputs": [
    {
     "name": "stdout",
     "output_type": "stream",
     "text": [
      " Введите:\n",
      "p – people – для получения имени владельца по номеру документа\n",
      "s – shelf – для получения номера полки хранения по номеру документа\n",
      "l – list – для получментя списка всех документов\n",
      "as – add shelf – для добавления новой полки\n",
      "d – delete – для удаления документа\n",
      "m – move – для перемещения документа\n",
      "a – add – для добавления документа\n",
      "q - quit - для выхода\n",
      "Ваш выбор: \n",
      "l\n",
      "passport \"2207 876234\" \"Василий Гупкин\"\n",
      "passport \"5455 002299\" \"Майкл Пейлин\"\n",
      "passport \"5400 028765\" \"Джон Клиз\"\n",
      "invoice \"11-2\" \"Геннадий Покемонов\"\n",
      "insurance \"10006\" \"Аристарх Павлов\"\n",
      "passport \"2217 876234\" \"Эрик Айдл\"\n",
      "invoice \"12-1\" \"Грэм Чэпмен\"\n",
      "invoice \"12-2\" \"Терри Гиллиам\"\n",
      " Введите:\n",
      "p – people – для получения имени владельца по номеру документа\n",
      "s – shelf – для получения номера полки хранения по номеру документа\n",
      "l – list – для получментя списка всех документов\n",
      "as – add shelf – для добавления новой полки\n",
      "d – delete – для удаления документа\n",
      "m – move – для перемещения документа\n",
      "a – add – для добавления документа\n",
      "q - quit - для выхода\n",
      "Ваш выбор: \n",
      "q\n"
     ]
    }
   ],
   "source": [
    "# Вызов меню\n",
    "menu()"
   ]
  },
  {
   "cell_type": "code",
   "execution_count": 74,
   "metadata": {},
   "outputs": [],
   "source": [
    "# 2207 876234\n",
    "# 11-2\n",
    "# 5455 028765\n",
    "\n",
    "# Грэм Чэпмен invoice 12-1\n",
    "# Джон Клиз\n",
    "# Терри Гиллиам\n",
    "# Эрик Айдл passport 2217 876234\n",
    "# Терри Джонс\n",
    "# Майкл Пейлин"
   ]
  },
  {
   "cell_type": "code",
   "execution_count": 96,
   "metadata": {},
   "outputs": [
    {
     "name": "stdout",
     "output_type": "stream",
     "text": [
      "{'1': ['2207 876234', '2217 876234'], '2': ['5400 028765', '5455 002299'], '3': ['11-2', '12-1', '12-2'], '4': ['10006']}\n"
     ]
    }
   ],
   "source": [
    "print(directories)"
   ]
  },
  {
   "cell_type": "code",
   "execution_count": null,
   "metadata": {},
   "outputs": [],
   "source": []
  }
 ],
 "metadata": {
  "kernelspec": {
   "display_name": "Python 3",
   "language": "python",
   "name": "python3"
  },
  "language_info": {
   "codemirror_mode": {
    "name": "ipython",
    "version": 3
   },
   "file_extension": ".py",
   "mimetype": "text/x-python",
   "name": "python",
   "nbconvert_exporter": "python",
   "pygments_lexer": "ipython3",
   "version": "3.7.4"
  }
 },
 "nbformat": 4,
 "nbformat_minor": 2
}
