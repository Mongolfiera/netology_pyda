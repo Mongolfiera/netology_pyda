{
 "cells": [
  {
   "cell_type": "markdown",
   "metadata": {},
   "source": [
    "## Задание 1"
   ]
  },
  {
   "cell_type": "markdown",
   "metadata": {},
   "source": [
    "Дан список вида:"
   ]
  },
  {
   "cell_type": "code",
   "execution_count": 19,
   "metadata": {},
   "outputs": [],
   "source": [
    "data = [\n",
    "    [13, 25, 23, 34],\n",
    "    [45, 32, 44, 47],\n",
    "    [12, 33, 23, 95],\n",
    "    [13, 53, 34, 35]\n",
    "]"
   ]
  },
  {
   "cell_type": "markdown",
   "metadata": {},
   "source": [
    "Напишите функцию, которая возвращает сумму элементов на диагонали. Т. е. 13+32+23+35.  \n",
    "Список может быть любой длины, но всегда является \"квадратным\" (количество элементов во вложенных списках равно их количеству)."
   ]
  },
  {
   "cell_type": "code",
   "execution_count": 20,
   "metadata": {},
   "outputs": [
    {
     "name": "stdout",
     "output_type": "stream",
     "text": [
      "103\n"
     ]
    }
   ],
   "source": [
    "def sum_diagonal(matrix):\n",
    "    matrix_size = len(matrix)\n",
    "    sum = 0\n",
    "    \n",
    "    for n in range(matrix_size):\n",
    "        sum += matrix[n][n]\n",
    "        \n",
    "    return(sum)\n",
    "\n",
    "\n",
    "print(sum_diagonal(data))"
   ]
  },
  {
   "cell_type": "code",
   "execution_count": 21,
   "metadata": {},
   "outputs": [
    {
     "name": "stdout",
     "output_type": "stream",
     "text": [
      "103\n"
     ]
    }
   ],
   "source": [
    "# v2\n",
    "def sum_diagonal1(matrix):\n",
    "    matrix_size = len(matrix)\n",
    "    return sum([number for lines in data for number in lines][0: : matrix_size + 1])\n",
    "\n",
    "print(sum_diagonal1(data))"
   ]
  },
  {
   "cell_type": "markdown",
   "metadata": {},
   "source": [
    "## Задание 2"
   ]
  },
  {
   "cell_type": "markdown",
   "metadata": {},
   "source": [
    "Напишите функцию, возвращающую сумму первых n чисел Фибоначчи (для этого вам может понадобится ознакомиться с рекурсией)."
   ]
  },
  {
   "cell_type": "code",
   "execution_count": 22,
   "metadata": {},
   "outputs": [
    {
     "name": "stdout",
     "output_type": "stream",
     "text": [
      "376\n"
     ]
    }
   ],
   "source": [
    "# v1 with for-loop\n",
    "\n",
    "def get_fibonacci_sum(n):\n",
    "    if n == 0:\n",
    "        return 0\n",
    "    fibonacci_numbers = [0, 1]\n",
    "    \n",
    "    for i in range(2, n + 1):\n",
    "        fibonacci_numbers.append(fibonacci_numbers[i - 1] + fibonacci_numbers[i - 2])\n",
    "        \n",
    "    return sum(fibonacci_numbers)\n",
    "\n",
    "\n",
    "print(get_fibonacci_sum(12))"
   ]
  },
  {
   "cell_type": "code",
   "execution_count": 23,
   "metadata": {},
   "outputs": [
    {
     "name": "stdout",
     "output_type": "stream",
     "text": [
      "376\n"
     ]
    }
   ],
   "source": [
    "# v2 with recursion and map\n",
    "\n",
    "def get_fibonacci_number(n):\n",
    "    if n == 0:\n",
    "        return 0\n",
    "    if n <= 2:\n",
    "        return 1\n",
    "    return get_fibonacci_number(n - 1) + get_fibonacci_number(n - 2)\n",
    "\n",
    "\n",
    "def get_sum(func, n):\n",
    "    return sum(map(func, range(n + 1)))\n",
    "\n",
    "print(get_sum(get_fibonacci_number, 12))"
   ]
  },
  {
   "cell_type": "code",
   "execution_count": 24,
   "metadata": {},
   "outputs": [
    {
     "name": "stdout",
     "output_type": "stream",
     "text": [
      "376\n"
     ]
    }
   ],
   "source": [
    "# v3 оказывается сумма n числел Фибоначчи = число Фибоначчи n+2 минус один\n",
    "#\n",
    "# F(2) = F(1) + F(0)        -> F(0) = F(2) - F(1)\n",
    "# F(3) = F(2) + F(1)        -> F(1) = F(3) - F(2)\n",
    "# ...\n",
    "# F(n) = F(n-1) + F(n-2)    -> F(n-2) = F(n) - F(n-1)\n",
    "# F(n+1) = F(n) + F(n-1)    -> F(n-1) = F(n+1) - F(n)\n",
    "# F(n+2) = F(n+1) + F(n)    -> F(n) = F(n+2) - F(n+1)\n",
    "#                            SUM(F(0)...F(n)) = F(n+2) - F(n+1) + F(n+1) - F(n) ... + F(3) - F(2) + F(2) - F(1)\n",
    "#\n",
    "# !!!!!-----!!!!!-----!!!!!  SUM(F(0)...F(n)) = F(n+2) - F(1) = F(n+2) - 1  !!!!!-----!!!!!-----!!!!!\n",
    "\n",
    "def get_fib_sum(n):\n",
    "    return get_fibonacci_number(n+2) - 1\n",
    "\n",
    "print(get_fib_sum(12))"
   ]
  },
  {
   "cell_type": "markdown",
   "metadata": {},
   "source": [
    "## Задание 3\n"
   ]
  },
  {
   "cell_type": "markdown",
   "metadata": {},
   "source": [
    "Напишите функцию, преобразующую произвольный список вида ['2018-01-01', 'yandex', 'cpc', 100] (он может быть любой длины) в словарь {'2018-01-01': {'yandex': {'cpc': 100}}}"
   ]
  },
  {
   "cell_type": "code",
   "execution_count": 25,
   "metadata": {},
   "outputs": [],
   "source": [
    "my_list = ['2018-01-01', 'yandex', 'cpc', 100, 'qwe', 'rty', 'uiop', 'cpc', 100, '2018-01-01', 'yandex', 'cpc', 100]"
   ]
  },
  {
   "cell_type": "code",
   "execution_count": 26,
   "metadata": {},
   "outputs": [
    {
     "name": "stdout",
     "output_type": "stream",
     "text": [
      "{'2018-01-01': {'yandex': {'cpc': {100: {'qwe': {'rty': {'uiop': {'cpc': {100: {'2018-01-01': {'yandex': {'cpc': 100}}}}}}}}}}}}\n"
     ]
    }
   ],
   "source": [
    "def convert_list_to_dictonary(my_list):\n",
    "    my_key, *my_value = my_list \n",
    "\n",
    "    if len(my_list) == 2:\n",
    "        return {my_key: my_value[0]}\n",
    "\n",
    "    return {my_key: convert_list_to_dictonary(my_value)}\n",
    "\n",
    "\n",
    "print(convert_list_to_dictonary(my_list))"
   ]
  },
  {
   "cell_type": "markdown",
   "metadata": {},
   "source": [
    "## Задание 4"
   ]
  },
  {
   "cell_type": "markdown",
   "metadata": {},
   "source": [
    "Вы работаете секретарем и вам постоянно приходят различные документы. Вы должны быть очень внимательны, чтобы не потерять ни один документ. Каталог документов хранится в следующем виде:"
   ]
  },
  {
   "cell_type": "code",
   "execution_count": 1,
   "metadata": {},
   "outputs": [],
   "source": [
    "documents = [\n",
    "    {'type': 'passport', 'number': '2207 876234', 'name': 'Василий Гупкин'},\n",
    "    {'type': 'passport', 'number': '5455 028765', 'name': 'Терри Джонс'},\n",
    "    {'type': 'passport', 'number': '5455 002299', 'name': 'Майкл Пейлин'},\n",
    "    {'type': 'passport', 'number': '5400 028765', 'name': 'Джон Клиз'},\n",
    "    {'type': 'invoice', 'number': '11-2', 'name': 'Геннадий Покемонов'},\n",
    "    {'type': 'insurance', 'number': '10006', 'name': 'Аристарх Павлов'}\n",
    "]"
   ]
  },
  {
   "cell_type": "markdown",
   "metadata": {},
   "source": [
    "Перечень полок, на которых находятся документы хранится в следующем виде:"
   ]
  },
  {
   "cell_type": "code",
   "execution_count": 2,
   "metadata": {},
   "outputs": [],
   "source": [
    "directories = {\n",
    "    '1': ['2207 876234', '11-2', '5455 028765'],\n",
    "    '2': ['10006', '5400 028765', '5455 002299'],\n",
    "    '3': []\n",
    "}"
   ]
  },
  {
   "cell_type": "markdown",
   "metadata": {},
   "source": [
    "Необходимо реализовать пользовательские команды (внимание! это не название функций, которые должны быть выразительными, а команды, которые вводит пользователь, чтобы получить необходимый результат):\n",
    "  \n",
    "- p – people – команда, которая спросит номер документа и выведет имя человека, которому он принадлежит;  \n",
    "- s – shelf – команда, которая спросит номер документа и выведет номер полки, на которой он находится  \n",
    "Правильно обработайте ситуацию, когда пользователь будет вводить несуществующий документ.\n",
    "- l – list – команда, которая выведет список всех документов в формате   \n",
    "**passport \"2207 876234\" \"Василий Гупкин\"**  \n",
    "- as – add shelf – команда, которая спросит номер новой полки и добавит ее в перечень\n",
    "- d – delete – команда, которая спросит номер документа и удалит его из каталога и из перечня полок. Предусмотрите сценарий, когда пользователь вводит несуществующий документ;  \n",
    "- m – move – команда, которая спросит номер документа и целевую полку и переместит его с текущей полки на целевую. Корректно обработайте кейсы, когда пользователь пытается переместить несуществующий документ или переместить документ на несуществующую полку;  \n",
    "- a – add – команда, которая добавит новый документ в каталог и в перечень полок, спросив его номер, тип, имя владельца и номер полки, на котором он будет храниться."
   ]
  },
  {
   "cell_type": "code",
   "execution_count": 3,
   "metadata": {},
   "outputs": [],
   "source": [
    "# menu\n",
    "\n",
    "USER_CHOICE = ''' Введите:\n",
    "p – people – для получения имени владельца по номеру документа\n",
    "s – shelf – для получения номера полки хранения по номеру документа\n",
    "l – list – для получментя списка всех документов\n",
    "as – add shelf – для добавления новой полки\n",
    "d – delete – для удаления документа\n",
    "m – move – для перемещения документа\n",
    "a – add – для добавления документа\n",
    "q - quit - для выхода\n",
    "Ваш выбор: \n",
    "'''\n",
    "\n",
    "def menu():\n",
    "    user_input = input(USER_CHOICE)\n",
    "    while user_input != 'q':\n",
    "        if user_input == 'p':\n",
    "            find_owner()\n",
    "        elif user_input == 's':\n",
    "            find_shelf()\n",
    "        elif user_input =='l':\n",
    "            list_documents()\n",
    "        elif user_input == 'as':\n",
    "            add_shelf()\n",
    "        elif user_input == 'd':\n",
    "            delete_document()\n",
    "        elif user_input == 'm':\n",
    "            move_document()\n",
    "        elif user_input == 'a':\n",
    "            add_document()\n",
    "        else:\n",
    "            print(\"Вы ввели неправильную команду. Попробуйте еще раз.\")\n",
    "\n",
    "        user_input = input(USER_CHOICE)"
   ]
  },
  {
   "cell_type": "code",
   "execution_count": 9,
   "metadata": {},
   "outputs": [],
   "source": [
    "# requests data\n",
    "\n",
    "doc_request = {\n",
    "    \"message\": \"Введите номер документа: \",\n",
    "    \"check\": find_document_by_number, \n",
    "    \"check_result\": True,\n",
    "    \"error_message\": \"Документа с таким номером не существует, введите правильный номер документа или введите 'q' для выхода в основное меню: \"\n",
    "}\n",
    "\n",
    "shelf_request = {\n",
    "    \"message\": \"Введите номер полки хранения: \",\n",
    "    \"check\": find_shelf_by_number,\n",
    "    \"check_result\": True,\n",
    "    \"error_message\": \"Такой полки не существует, введите существующую полку или введите 'q' для выхода в основное меню: \"\n",
    "}    \n",
    "\n",
    "new_doc_request = {\n",
    "    \"message\": \"Введите номер нового документа: \",\n",
    "    \"check\": find_document_by_number,\n",
    "    \"check_result\": False,\n",
    "    \"error_message\": \"Документ с таким номером уже существует, введите новый номер или введите 'q' для выхода в основное меню: \",\n",
    "    \"continue_messages\": {\"type\": \"Введите тип документа: \",\n",
    "                          \"name\": \"Введите имя владельца документа: \"}\n",
    "}\n",
    "\n",
    "new_shelf_request = {\n",
    "    \"message\": \"Введите номер новой полки: \",\n",
    "    \"check\": find_shelf_by_number,\n",
    "    \"check_result\": False,\n",
    "    \"error_message\": \"Такая полка уже существует, введите новый номер или введите 'q' для выхода в основное меню: \",\n",
    "    \"continue_messages\": {}\n",
    "}"
   ]
  },
  {
   "cell_type": "code",
   "execution_count": 10,
   "metadata": {},
   "outputs": [],
   "source": [
    "# support functions - storage handlers\n",
    "\n",
    "def find_document_by_number(number):\n",
    "    found_document = [document for document in documents if document[\"number\"] == number]\n",
    "    if found_document:\n",
    "        return found_document[0]\n",
    "\n",
    "\n",
    "def find_shelf_by_number(shelf_number):\n",
    "    if shelf_number in directories.keys():\n",
    "        return shelf_number\n",
    "\n",
    "\n",
    "def find_shelf_by_document(document): # можно перенести внутрь меню, но тогда пропадет разделение между логикой и обращением к данными\n",
    "    for shelf_number in directories.keys(): \n",
    "        if document[\"number\"] in directories[shelf_number]:\n",
    "            return shelf_number\n",
    "\n",
    "\n",
    "def add_document_to_shelf(document, shelf_number):\n",
    "    directories[shelf_number].append(document[\"number\"])\n",
    "    \n",
    "\n",
    "def add_document_to_catalogue(document): \n",
    "    documents.append(document) # можно перенести внутрь меню, но тогда пропадет разделение между логикой и обращением к данными\n",
    "\n",
    "\n",
    "def add_new_shelf(shelf_number):\n",
    "    directories[shelf_number] = [] # можно перенести внутрь меню, но тогда пропадет разделение между логикой и обращением к данными\n",
    "\n",
    "\n",
    "def remove_document_from_shelf(document):\n",
    "    shelf_number = find_shelf_by_document(document)\n",
    "    directories[shelf_number].remove(document[\"number\"])\n",
    "\n",
    "\n",
    "def remove_document_from_catalogue(document):\n",
    "    documents.remove(document) # можно перенести внутрь меню, но тогда пропадет разделение между логикой и обращением к данными\n",
    "\n",
    "\n",
    "def get_documents_data():\n",
    "    output_list = []\n",
    "    for document in documents:\n",
    "        output_list.append([document[\"type\"], document[\"number\"], document[\"name\"]])\n",
    "    return output_list"
   ]
  },
  {
   "cell_type": "code",
   "execution_count": 11,
   "metadata": {},
   "outputs": [],
   "source": [
    "# support functions - input getter\n",
    "\n",
    "def prompt_get_input(request):\n",
    "    number = input(request[\"message\"]).strip()\n",
    "    found_document = request[\"check\"](number)\n",
    "    \n",
    "    while not bool(found_document) == request[\"check_result\"] and number != \"q\":\n",
    "        number = input(request[\"error_message\"]).strip()\n",
    "        found_document = request[\"check\"](number)\n",
    "        \n",
    "    if number == \"q\":\n",
    "        return number\n",
    "    \n",
    "    if found_document:\n",
    "        return found_document\n",
    "    \n",
    "    if not request[\"continue_messages\"]:\n",
    "        return number\n",
    "    \n",
    "    document = {}\n",
    "    document[\"number\"] = number\n",
    "    for k in request[\"continue_messages\"].keys():\n",
    "        document[k] = input(request[\"continue_messages\"][k]).strip()\n",
    "    return document"
   ]
  },
  {
   "cell_type": "code",
   "execution_count": 12,
   "metadata": {},
   "outputs": [],
   "source": [
    "# menu commands\n",
    "\n",
    "# input == p\n",
    "def find_owner():\n",
    "    document = prompt_get_input(doc_request)\n",
    "    if document == \"q\":\n",
    "        return\n",
    "    print(f\"Владелец документа - {document['name']}.\")\n",
    "\n",
    "\n",
    "# input == s\n",
    "def find_shelf():\n",
    "    document = prompt_get_input(doc_request)\n",
    "    if document == \"q\":\n",
    "        return\n",
    "    shelf_number = find_shelf_by_document(document)\n",
    "    print(f\"Номер полки хранения документа - {shelf_number}.\")\n",
    "\n",
    "\n",
    "# input == l\n",
    "def list_documents():\n",
    "    output_data = get_documents_data()      \n",
    "    for line in output_data:\n",
    "        print(f\"{line[0]} \\\"{line[1]}\\\" \\\"{line[2]}\\\"\")\n",
    "\n",
    "\n",
    "# input == as\n",
    "def add_shelf():\n",
    "    new_shelf_number = prompt_get_input(new_shelf_request)\n",
    "    if new_shelf_number == \"q\":\n",
    "        return       \n",
    "    add_new_shelf(new_shelf_number)\n",
    "\n",
    "\n",
    "# input == d\n",
    "def delete_document():\n",
    "    document = prompt_get_input(doc_request)\n",
    "    if document == \"q\":\n",
    "        return\n",
    "    remove_document_from_shelf(document)\n",
    "    remove_document_from_catalogue(document)\n",
    "\n",
    "\n",
    "# input == m              \n",
    "def move_document():\n",
    "    document = prompt_get_input(doc_request)\n",
    "    if document == \"q\":\n",
    "        return      \n",
    "    shelf_number = prompt_get_input(shelf_request)\n",
    "    if shelf_number == \"q\":\n",
    "        return\n",
    "    remove_document_from_shelf(document)\n",
    "    add_document_to_shelf(document, shelf_number)\n",
    "\n",
    "\n",
    "# input == a\n",
    "def add_document():\n",
    "    new_document = prompt_get_input(new_doc_request)\n",
    "    if new_document == \"q\":\n",
    "        return\n",
    "    shelf_number = prompt_get_input(shelf_request)\n",
    "    if shelf_number == \"q\":\n",
    "        return\n",
    "    add_document_to_catalogue(new_document)\n",
    "    add_document_to_shelf(new_document, shelf_number)"
   ]
  },
  {
   "cell_type": "code",
   "execution_count": 17,
   "metadata": {},
   "outputs": [
    {
     "name": "stdout",
     "output_type": "stream",
     "text": [
      " Введите:\n",
      "p – people – для получения имени владельца по номеру документа\n",
      "s – shelf – для получения номера полки хранения по номеру документа\n",
      "l – list – для получментя списка всех документов\n",
      "as – add shelf – для добавления новой полки\n",
      "d – delete – для удаления документа\n",
      "m – move – для перемещения документа\n",
      "a – add – для добавления документа\n",
      "q - quit - для выхода\n",
      "Ваш выбор: \n",
      "a\n",
      "Введите номер нового документа:           2217 876234     \n",
      "Введите тип документа: passport\n",
      "Введите имя владельца документа:           Эрик Айдл       \n",
      "Введите номер полки хранения: 6\n",
      "Такой полки не существует, введите существующую полку или введите 'q' для выхода в основное меню: 4\n",
      " Введите:\n",
      "p – people – для получения имени владельца по номеру документа\n",
      "s – shelf – для получения номера полки хранения по номеру документа\n",
      "l – list – для получментя списка всех документов\n",
      "as – add shelf – для добавления новой полки\n",
      "d – delete – для удаления документа\n",
      "m – move – для перемещения документа\n",
      "a – add – для добавления документа\n",
      "q - quit - для выхода\n",
      "Ваш выбор: \n",
      "l\n",
      "passport \"2207 876234\" \"Василий Гупкин\"\n",
      "passport \"5455 028765\" \"Терри Джонс\"\n",
      "passport \"5455 002299\" \"Майкл Пейлин\"\n",
      "passport \"5400 028765\" \"Джон Клиз\"\n",
      "invoice \"11-2\" \"Геннадий Покемонов\"\n",
      "insurance \"10006\" \"Аристарх Павлов\"\n",
      "invoice \"12-1\" \"Грэм Чэпмен\"\n",
      "invoice \"11-1\" \"Терри Гиллиам\"\n",
      "passport \"2217 876234\" \"Эрик Айдл\"\n",
      " Введите:\n",
      "p – people – для получения имени владельца по номеру документа\n",
      "s – shelf – для получения номера полки хранения по номеру документа\n",
      "l – list – для получментя списка всех документов\n",
      "as – add shelf – для добавления новой полки\n",
      "d – delete – для удаления документа\n",
      "m – move – для перемещения документа\n",
      "a – add – для добавления документа\n",
      "q - quit - для выхода\n",
      "Ваш выбор: \n",
      "d\n",
      "Введите номер документа:       11-2\n",
      " Введите:\n",
      "p – people – для получения имени владельца по номеру документа\n",
      "s – shelf – для получения номера полки хранения по номеру документа\n",
      "l – list – для получментя списка всех документов\n",
      "as – add shelf – для добавления новой полки\n",
      "d – delete – для удаления документа\n",
      "m – move – для перемещения документа\n",
      "a – add – для добавления документа\n",
      "q - quit - для выхода\n",
      "Ваш выбор: \n",
      "l\n",
      "passport \"2207 876234\" \"Василий Гупкин\"\n",
      "passport \"5455 028765\" \"Терри Джонс\"\n",
      "passport \"5455 002299\" \"Майкл Пейлин\"\n",
      "passport \"5400 028765\" \"Джон Клиз\"\n",
      "insurance \"10006\" \"Аристарх Павлов\"\n",
      "invoice \"12-1\" \"Грэм Чэпмен\"\n",
      "invoice \"11-1\" \"Терри Гиллиам\"\n",
      "passport \"2217 876234\" \"Эрик Айдл\"\n",
      " Введите:\n",
      "p – people – для получения имени владельца по номеру документа\n",
      "s – shelf – для получения номера полки хранения по номеру документа\n",
      "l – list – для получментя списка всех документов\n",
      "as – add shelf – для добавления новой полки\n",
      "d – delete – для удаления документа\n",
      "m – move – для перемещения документа\n",
      "a – add – для добавления документа\n",
      "q - quit - для выхода\n",
      "Ваш выбор: \n",
      "q\n"
     ]
    }
   ],
   "source": [
    "# Вызов меню\n",
    "menu()"
   ]
  },
  {
   "cell_type": "code",
   "execution_count": null,
   "metadata": {},
   "outputs": [],
   "source": [
    "# 2207 876234\n",
    "# 11-2\n",
    "# 5455 028765\n",
    "\n",
    "# Грэм Чэпмен invoice 12-1\n",
    "# Джон Клиз\n",
    "# Терри Гиллиам\n",
    "# Эрик Айдл passport 2217 876234\n",
    "# Терри Джонс\n",
    "# Майкл Пейлин"
   ]
  },
  {
   "cell_type": "code",
   "execution_count": 18,
   "metadata": {},
   "outputs": [
    {
     "name": "stdout",
     "output_type": "stream",
     "text": [
      "{'type': 'passport', 'number': '2207 876234', 'name': 'Василий Гупкин'}\n",
      "{'type': 'passport', 'number': '5455 028765', 'name': 'Терри Джонс'}\n",
      "{'type': 'passport', 'number': '5455 002299', 'name': 'Майкл Пейлин'}\n",
      "{'type': 'passport', 'number': '5400 028765', 'name': 'Джон Клиз'}\n",
      "{'type': 'insurance', 'number': '10006', 'name': 'Аристарх Павлов'}\n",
      "{'number': '12-1', 'type': 'invoice', 'name': 'Грэм Чэпмен'}\n",
      "{'number': '11-1', 'type': 'invoice', 'name': 'Терри Гиллиам'}\n",
      "{'number': '2217 876234', 'type': 'passport', 'name': 'Эрик Айдл'}\n",
      "{'1': ['2207 876234', '5455 028765'], '2': ['10006', '5400 028765', '5455 002299'], '3': ['11-1'], '4': ['12-1', '2217 876234']}\n"
     ]
    }
   ],
   "source": [
    "print(*documents, sep=\"\\n\")\n",
    "print(directories)"
   ]
  },
  {
   "cell_type": "code",
   "execution_count": null,
   "metadata": {},
   "outputs": [],
   "source": []
  }
 ],
 "metadata": {
  "kernelspec": {
   "display_name": "Python 3",
   "language": "python",
   "name": "python3"
  },
  "language_info": {
   "codemirror_mode": {
    "name": "ipython",
    "version": 3
   },
   "file_extension": ".py",
   "mimetype": "text/x-python",
   "name": "python",
   "nbconvert_exporter": "python",
   "pygments_lexer": "ipython3",
   "version": "3.7.4"
  }
 },
 "nbformat": 4,
 "nbformat_minor": 2
}
