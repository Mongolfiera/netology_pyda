{
 "cells": [
  {
   "cell_type": "markdown",
   "metadata": {},
   "source": [
    "# Домашнее задание 4"
   ]
  },
  {
   "cell_type": "markdown",
   "metadata": {},
   "source": [
    "**Задание 1**\n",
    "\n",
    "Напишите функцию date_range, которая возвращает список дней между датами start_date и end_date. Даты должны вводиться в формате YYYY-MM-DD."
   ]
  },
  {
   "cell_type": "code",
   "execution_count": 27,
   "metadata": {},
   "outputs": [],
   "source": [
    "from datetime import datetime, timedelta"
   ]
  },
  {
   "cell_type": "code",
   "execution_count": 45,
   "metadata": {},
   "outputs": [
    {
     "name": "stdout",
     "output_type": "stream",
     "text": [
      "['2019-11-29', '2019-11-30', '2019-12-01', '2019-12-02', '2019-12-03', '2019-12-04', '2019-12-05', '2019-12-06', '2019-12-07', '2019-12-08', '2019-12-09', '2019-12-10', '2019-12-11', '2019-12-12', '2019-12-13', '2019-12-14', '2019-12-15']\n"
     ]
    }
   ],
   "source": [
    "def get_date_range(start_date, end_date):\n",
    "    start_date_dt = datetime.strptime(start_date, '%Y-%m-%d')\n",
    "    end_date_dt = datetime.strptime(end_date, '%Y-%m-%d')\n",
    "    period = (end_date_dt - start_date_dt).days\n",
    "    return [start_date_dt + timedelta(days = x) for x in range(period + 1)]\n",
    "\n",
    "\n",
    "days = get_date_range('2019-11-29', '2019-12-15')\n",
    "\n",
    "print([datetime.strftime(day, '%Y-%m-%d') for day in days])"
   ]
  },
  {
   "cell_type": "markdown",
   "metadata": {},
   "source": [
    "**Задание 2**\n",
    "\n",
    "Дополните функцию из первого задания проверкой на корректность дат. В случае неверного формата или если start_date > end_date должен возвращаться пустой список."
   ]
  },
  {
   "cell_type": "code",
   "execution_count": 47,
   "metadata": {},
   "outputs": [
    {
     "name": "stdout",
     "output_type": "stream",
     "text": [
      "[]\n",
      "[]\n",
      "['2019-11-29', '2019-11-30', '2019-12-01', '2019-12-02', '2019-12-03', '2019-12-04', '2019-12-05', '2019-12-06', '2019-12-07', '2019-12-08', '2019-12-09', '2019-12-10', '2019-12-11', '2019-12-12', '2019-12-13', '2019-12-14', '2019-12-15']\n"
     ]
    }
   ],
   "source": [
    "def get_date_range(start_date, end_date):\n",
    "    try:\n",
    "        start_date_dt = datetime.strptime(start_date, '%Y-%m-%d')\n",
    "        end_date_dt = datetime.strptime(end_date, '%Y-%m-%d')\n",
    "        period = (end_date_dt - start_date_dt).days\n",
    "        if period < 0:\n",
    "            return []\n",
    "        return [start_date_dt + timedelta(days = x) for x in range(period + 1)]\n",
    "    except:\n",
    "        return []\n",
    "\n",
    "\n",
    "def print_date_range(dates):\n",
    "    print([datetime.strftime(date, '%Y-%m-%d') for date in dates])\n",
    "\n",
    "\n",
    "days = get_date_range('2019-22-29', '2019-12-15')\n",
    "print_date_range(days)\n",
    "\n",
    "days = get_date_range('2019-12-29', '2019-12-15')\n",
    "print_date_range(days)\n",
    "\n",
    "days = get_date_range('2019-11-29', '2019-12-15')\n",
    "print_date_range(days)\n"
   ]
  },
  {
   "cell_type": "markdown",
   "metadata": {},
   "source": [
    "**Задание 3**\n",
    "\n",
    "Дан поток дат в формате YYYY-MM-DD, в которых встречаются некорректные значения:\n",
    "stream = ['2018-04-02', '2018-02-29', '2018-19-02']\n",
    "\n",
    "Напишите функцию, которая проверяет эти даты на корректность. Т. е. для каждой даты возвращает True (дата корректна) или False (некорректная дата). "
   ]
  },
  {
   "cell_type": "code",
   "execution_count": 48,
   "metadata": {},
   "outputs": [
    {
     "data": {
      "text/plain": [
       "[True, False, False]"
      ]
     },
     "execution_count": 48,
     "metadata": {},
     "output_type": "execute_result"
    }
   ],
   "source": [
    "def check_date(date):\n",
    "    try:\n",
    "        date_dt = datetime.strptime(date, '%Y-%m-%d')\n",
    "        return True\n",
    "    except:\n",
    "        return False\n",
    "    \n",
    "    \n",
    "stream = ['2018-04-02', '2018-02-29', '2018-19-02']\n",
    "\n",
    "[check_date(d) for d in stream]"
   ]
  },
  {
   "cell_type": "markdown",
   "metadata": {},
   "source": [
    "**Задание 4 (бонусное)**\n",
    "\n",
    "Ваш коллега прислал код функции:\n",
    "\n",
    "DEFAULT_USER_COUNT = 3\n",
    "\n",
    "def delete_and_return_last_user(region, default_list=['A100', 'A101', 'A102']):\n",
    "    \"\"\"\n",
    "    Удаляет из списка default_list последнего пользователя \n",
    "    и возвращает ID нового последнего пользователя.\n",
    "    \"\"\"\n",
    "    element_to_delete = default_list[-1]\n",
    "    default_list.remove(element_to_delete)\n",
    "    \n",
    "    return default_list[DEFAULT_USER_COUNT-2]\n",
    "\n",
    "При однократном вызове этой функции все работает корректно:\n",
    "delete_and_return_last_user(1)\n",
    "'A101'\n",
    "\n",
    "Однако, при повторном вызове получается ошибка IndexError: list index out of range.\n",
    "\n",
    "Задание:\n",
    "1. Что значит ошибка list index out of range?\n",
    "2. Почему при первом запуске функция работает корректно, а при втором - нет?\n",
    "\n"
   ]
  },
  {
   "cell_type": "code",
   "execution_count": 59,
   "metadata": {},
   "outputs": [
    {
     "name": "stdout",
     "output_type": "stream",
     "text": [
      "Список до удаления  ['A100', 'A101', 'A102']\n",
      "Список после удаления  ['A100', 'A101']\n",
      "A101 \n",
      "\n",
      "Список до удаления  ['A100', 'A101']\n",
      "Список после удаления  ['A100']\n",
      "None\n"
     ]
    },
    {
     "name": "stderr",
     "output_type": "stream",
     "text": [
      "Traceback (most recent call last):\n",
      "  File \"<ipython-input-59-bdfbea74b2d0>\", line 14, in delete_and_return_last_user\n",
      "    print(default_list[DEFAULT_USER_COUNT-2], '\\n')\n",
      "IndexError: list index out of range\n"
     ]
    }
   ],
   "source": [
    "import traceback\n",
    "\n",
    "DEFAULT_USER_COUNT = 3\n",
    "\n",
    "def delete_and_return_last_user(region, default_list=['A100', 'A101', 'A102']):\n",
    "    \"\"\" Удаляет из списка default_list последнего пользователя и возвращает ID нового последнего пользователя. \"\"\" \n",
    "    try:        \n",
    "        print('Список до удаления ', default_list)\n",
    "\n",
    "        element_to_delete = default_list[-1]\n",
    "        default_list.remove(element_to_delete)\n",
    "        \n",
    "        print('Список после удаления ', default_list)\n",
    "        print(default_list[DEFAULT_USER_COUNT-2], '\\n')\n",
    "        \n",
    "        return default_list[DEFAULT_USER_COUNT-2]\n",
    "    except:\n",
    "        print(traceback.print_exc())\n",
    "\n",
    "\n",
    "delete_and_return_last_user(1)\n",
    "delete_and_return_last_user(1)"
   ]
  },
  {
   "cell_type": "markdown",
   "metadata": {},
   "source": [
    "1. *Что значит ошибка list index out of range?*\n",
    "\n",
    "    list index out of range означает, что мы пытаемся обратиться к элементу списка с несуществующим индексом.\n",
    "    В данном примере мы пытаемся обратиться к элементу списка с индексом 1 в списке, состоящем всего из 1-го элемента\n",
    "    \n",
    "\n",
    "1. *Почему при первом запуске функция работает корректно, а при втором - нет?*\n",
    "\n",
    "    Так как списки относятся к изменяемым типам данных, после первого запуска от списка из 3-х элементов (для которого функция работала коррекно) остается список всего из 2-х элементов, для которого функция уже не работает."
   ]
  },
  {
   "cell_type": "code",
   "execution_count": null,
   "metadata": {},
   "outputs": [],
   "source": []
  }
 ],
 "metadata": {
  "kernelspec": {
   "display_name": "Python 3",
   "language": "python",
   "name": "python3"
  },
  "language_info": {
   "codemirror_mode": {
    "name": "ipython",
    "version": 3
   },
   "file_extension": ".py",
   "mimetype": "text/x-python",
   "name": "python",
   "nbconvert_exporter": "python",
   "pygments_lexer": "ipython3",
   "version": "3.7.4"
  }
 },
 "nbformat": 4,
 "nbformat_minor": 2
}
